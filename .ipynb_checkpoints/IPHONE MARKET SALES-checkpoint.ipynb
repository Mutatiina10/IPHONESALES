{
 "cells": [
  {
   "cell_type": "markdown",
   "id": "60b08a41-8479-4c21-a6a1-16096dfca686",
   "metadata": {},
   "source": [
    "## MUTATIINA N. EDIGAR"
   ]
  },
  {
   "cell_type": "markdown",
   "id": "d6dcb2e6-97c3-4a76-84a2-5932e37bc502",
   "metadata": {},
   "source": [
    "### IPHONE DATASET\n",
    "#### It shows sales from 2011 to 2023"
   ]
  },
  {
   "cell_type": "markdown",
   "id": "c0fe2597-e78d-4793-8edd-5efb8cde6f76",
   "metadata": {},
   "source": [
    "##### IMPORTING LIBRABRIES THAT WE NEED TO USE"
   ]
  },
  {
   "cell_type": "code",
   "execution_count": 1,
   "id": "94fc9034-804f-4127-bf37-1224c780008b",
   "metadata": {},
   "outputs": [],
   "source": [
    "import pandas as pd\n",
    "import numpy as np\n",
    "import matplotlib.pyplot as plt\n",
    "import seaborn as sns\n",
    "import sklearn"
   ]
  },
  {
   "cell_type": "markdown",
   "id": "94d9aac9-4ba7-4257-a604-e023cd4dcd49",
   "metadata": {},
   "source": [
    "##### LOADING OUR DATASET "
   ]
  },
  {
   "cell_type": "code",
   "execution_count": 2,
   "id": "7ae847c2-daba-4ed7-941a-c4d9fc9d5314",
   "metadata": {},
   "outputs": [
    {
     "data": {
      "text/html": [
       "<div>\n",
       "<style scoped>\n",
       "    .dataframe tbody tr th:only-of-type {\n",
       "        vertical-align: middle;\n",
       "    }\n",
       "\n",
       "    .dataframe tbody tr th {\n",
       "        vertical-align: top;\n",
       "    }\n",
       "\n",
       "    .dataframe thead th {\n",
       "        text-align: right;\n",
       "    }\n",
       "</style>\n",
       "<table border=\"1\" class=\"dataframe\">\n",
       "  <thead>\n",
       "    <tr style=\"text-align: right;\">\n",
       "      <th></th>\n",
       "      <th>Year</th>\n",
       "      <th>No_of_iPhone_Users</th>\n",
       "      <th>No_of_iPhone_Users_USA</th>\n",
       "      <th>Percentage_of_iPhone_Users</th>\n",
       "      <th>No_of_iPhone_Sold</th>\n",
       "      <th>No_of_iPhone_Sold_USA</th>\n",
       "      <th>iOS_Market_Share</th>\n",
       "      <th>Android_Market_Share</th>\n",
       "    </tr>\n",
       "  </thead>\n",
       "  <tbody>\n",
       "    <tr>\n",
       "      <th>0</th>\n",
       "      <td>2023</td>\n",
       "      <td>1460000000</td>\n",
       "      <td>153000000</td>\n",
       "      <td>58.33</td>\n",
       "      <td>234600000</td>\n",
       "      <td>NaN</td>\n",
       "      <td>58.10</td>\n",
       "      <td>41.46</td>\n",
       "    </tr>\n",
       "    <tr>\n",
       "      <th>1</th>\n",
       "      <td>2022</td>\n",
       "      <td>1360000000</td>\n",
       "      <td>149000000</td>\n",
       "      <td>48.70</td>\n",
       "      <td>226400000</td>\n",
       "      <td>124700000.0</td>\n",
       "      <td>56.74</td>\n",
       "      <td>42.94</td>\n",
       "    </tr>\n",
       "    <tr>\n",
       "      <th>2</th>\n",
       "      <td>2021</td>\n",
       "      <td>1230000000</td>\n",
       "      <td>141000000</td>\n",
       "      <td>46.90</td>\n",
       "      <td>235700000</td>\n",
       "      <td>116300000.0</td>\n",
       "      <td>58.58</td>\n",
       "      <td>41.11</td>\n",
       "    </tr>\n",
       "    <tr>\n",
       "      <th>3</th>\n",
       "      <td>2020</td>\n",
       "      <td>1000000000</td>\n",
       "      <td>138000000</td>\n",
       "      <td>45.30</td>\n",
       "      <td>206100000</td>\n",
       "      <td>113500000.0</td>\n",
       "      <td>59.54</td>\n",
       "      <td>40.20</td>\n",
       "    </tr>\n",
       "    <tr>\n",
       "      <th>4</th>\n",
       "      <td>2019</td>\n",
       "      <td>948000000</td>\n",
       "      <td>131000000</td>\n",
       "      <td>45.20</td>\n",
       "      <td>191000000</td>\n",
       "      <td>105200000.0</td>\n",
       "      <td>55.23</td>\n",
       "      <td>44.51</td>\n",
       "    </tr>\n",
       "    <tr>\n",
       "      <th>5</th>\n",
       "      <td>2018</td>\n",
       "      <td>888000000</td>\n",
       "      <td>127000000</td>\n",
       "      <td>45.10</td>\n",
       "      <td>208800000</td>\n",
       "      <td>101900000.0</td>\n",
       "      <td>54.82</td>\n",
       "      <td>44.73</td>\n",
       "    </tr>\n",
       "    <tr>\n",
       "      <th>6</th>\n",
       "      <td>2017</td>\n",
       "      <td>814000000</td>\n",
       "      <td>125000000</td>\n",
       "      <td>44.20</td>\n",
       "      <td>215800000</td>\n",
       "      <td>97200000.0</td>\n",
       "      <td>53.89</td>\n",
       "      <td>45.23</td>\n",
       "    </tr>\n",
       "    <tr>\n",
       "      <th>7</th>\n",
       "      <td>2016</td>\n",
       "      <td>710000000</td>\n",
       "      <td>114000000</td>\n",
       "      <td>43.50</td>\n",
       "      <td>215400000</td>\n",
       "      <td>90100000.0</td>\n",
       "      <td>53.19</td>\n",
       "      <td>45.20</td>\n",
       "    </tr>\n",
       "    <tr>\n",
       "      <th>8</th>\n",
       "      <td>2015</td>\n",
       "      <td>569000000</td>\n",
       "      <td>101000000</td>\n",
       "      <td>43.30</td>\n",
       "      <td>231500000</td>\n",
       "      <td>82500000.0</td>\n",
       "      <td>50.85</td>\n",
       "      <td>46.42</td>\n",
       "    </tr>\n",
       "    <tr>\n",
       "      <th>9</th>\n",
       "      <td>2014</td>\n",
       "      <td>442000000</td>\n",
       "      <td>88000000</td>\n",
       "      <td>42.30</td>\n",
       "      <td>192700000</td>\n",
       "      <td>72300000.0</td>\n",
       "      <td>52.30</td>\n",
       "      <td>42.58</td>\n",
       "    </tr>\n",
       "    <tr>\n",
       "      <th>10</th>\n",
       "      <td>2013</td>\n",
       "      <td>329000000</td>\n",
       "      <td>72000000</td>\n",
       "      <td>NaN</td>\n",
       "      <td>153400000</td>\n",
       "      <td>57800000.0</td>\n",
       "      <td>52.79</td>\n",
       "      <td>39.25</td>\n",
       "    </tr>\n",
       "    <tr>\n",
       "      <th>11</th>\n",
       "      <td>2012</td>\n",
       "      <td>206000000</td>\n",
       "      <td>51000000</td>\n",
       "      <td>NaN</td>\n",
       "      <td>135900000</td>\n",
       "      <td>44530000.0</td>\n",
       "      <td>NaN</td>\n",
       "      <td>NaN</td>\n",
       "    </tr>\n",
       "    <tr>\n",
       "      <th>12</th>\n",
       "      <td>2011</td>\n",
       "      <td>115000000</td>\n",
       "      <td>40000000</td>\n",
       "      <td>NaN</td>\n",
       "      <td>93100000</td>\n",
       "      <td>NaN</td>\n",
       "      <td>NaN</td>\n",
       "      <td>NaN</td>\n",
       "    </tr>\n",
       "  </tbody>\n",
       "</table>\n",
       "</div>"
      ],
      "text/plain": [
       "    Year  No_of_iPhone_Users  No_of_iPhone_Users_USA  \\\n",
       "0   2023          1460000000               153000000   \n",
       "1   2022          1360000000               149000000   \n",
       "2   2021          1230000000               141000000   \n",
       "3   2020          1000000000               138000000   \n",
       "4   2019           948000000               131000000   \n",
       "5   2018           888000000               127000000   \n",
       "6   2017           814000000               125000000   \n",
       "7   2016           710000000               114000000   \n",
       "8   2015           569000000               101000000   \n",
       "9   2014           442000000                88000000   \n",
       "10  2013           329000000                72000000   \n",
       "11  2012           206000000                51000000   \n",
       "12  2011           115000000                40000000   \n",
       "\n",
       "    Percentage_of_iPhone_Users  No_of_iPhone_Sold  No_of_iPhone_Sold_USA  \\\n",
       "0                        58.33          234600000                    NaN   \n",
       "1                        48.70          226400000            124700000.0   \n",
       "2                        46.90          235700000            116300000.0   \n",
       "3                        45.30          206100000            113500000.0   \n",
       "4                        45.20          191000000            105200000.0   \n",
       "5                        45.10          208800000            101900000.0   \n",
       "6                        44.20          215800000             97200000.0   \n",
       "7                        43.50          215400000             90100000.0   \n",
       "8                        43.30          231500000             82500000.0   \n",
       "9                        42.30          192700000             72300000.0   \n",
       "10                         NaN          153400000             57800000.0   \n",
       "11                         NaN          135900000             44530000.0   \n",
       "12                         NaN           93100000                    NaN   \n",
       "\n",
       "    iOS_Market_Share  Android_Market_Share  \n",
       "0              58.10                 41.46  \n",
       "1              56.74                 42.94  \n",
       "2              58.58                 41.11  \n",
       "3              59.54                 40.20  \n",
       "4              55.23                 44.51  \n",
       "5              54.82                 44.73  \n",
       "6              53.89                 45.23  \n",
       "7              53.19                 45.20  \n",
       "8              50.85                 46.42  \n",
       "9              52.30                 42.58  \n",
       "10             52.79                 39.25  \n",
       "11               NaN                   NaN  \n",
       "12               NaN                   NaN  "
      ]
     },
     "execution_count": 2,
     "metadata": {},
     "output_type": "execute_result"
    }
   ],
   "source": [
    "df = pd.read_csv(r\"C:\\Users\\HP\\OneDrive\\Desktop\\Iphone_Dataset.csv\") # reading our dataset\n",
    "df "
   ]
  },
  {
   "cell_type": "code",
   "execution_count": 3,
   "id": "ad37bfe9-4a0b-4e86-bf82-6a7cc5b808c8",
   "metadata": {},
   "outputs": [
    {
     "data": {
      "text/html": [
       "<div>\n",
       "<style scoped>\n",
       "    .dataframe tbody tr th:only-of-type {\n",
       "        vertical-align: middle;\n",
       "    }\n",
       "\n",
       "    .dataframe tbody tr th {\n",
       "        vertical-align: top;\n",
       "    }\n",
       "\n",
       "    .dataframe thead th {\n",
       "        text-align: right;\n",
       "    }\n",
       "</style>\n",
       "<table border=\"1\" class=\"dataframe\">\n",
       "  <thead>\n",
       "    <tr style=\"text-align: right;\">\n",
       "      <th></th>\n",
       "      <th>Year</th>\n",
       "      <th>No_of_iPhone_Users</th>\n",
       "      <th>No_of_iPhone_Users_USA</th>\n",
       "      <th>Percentage_of_iPhone_Users</th>\n",
       "      <th>No_of_iPhone_Sold</th>\n",
       "      <th>No_of_iPhone_Sold_USA</th>\n",
       "      <th>iOS_Market_Share</th>\n",
       "      <th>Android_Market_Share</th>\n",
       "    </tr>\n",
       "  </thead>\n",
       "  <tbody>\n",
       "    <tr>\n",
       "      <th>8</th>\n",
       "      <td>2015</td>\n",
       "      <td>569000000</td>\n",
       "      <td>101000000</td>\n",
       "      <td>43.3</td>\n",
       "      <td>231500000</td>\n",
       "      <td>82500000.0</td>\n",
       "      <td>50.85</td>\n",
       "      <td>46.42</td>\n",
       "    </tr>\n",
       "    <tr>\n",
       "      <th>9</th>\n",
       "      <td>2014</td>\n",
       "      <td>442000000</td>\n",
       "      <td>88000000</td>\n",
       "      <td>42.3</td>\n",
       "      <td>192700000</td>\n",
       "      <td>72300000.0</td>\n",
       "      <td>52.30</td>\n",
       "      <td>42.58</td>\n",
       "    </tr>\n",
       "    <tr>\n",
       "      <th>10</th>\n",
       "      <td>2013</td>\n",
       "      <td>329000000</td>\n",
       "      <td>72000000</td>\n",
       "      <td>NaN</td>\n",
       "      <td>153400000</td>\n",
       "      <td>57800000.0</td>\n",
       "      <td>52.79</td>\n",
       "      <td>39.25</td>\n",
       "    </tr>\n",
       "    <tr>\n",
       "      <th>11</th>\n",
       "      <td>2012</td>\n",
       "      <td>206000000</td>\n",
       "      <td>51000000</td>\n",
       "      <td>NaN</td>\n",
       "      <td>135900000</td>\n",
       "      <td>44530000.0</td>\n",
       "      <td>NaN</td>\n",
       "      <td>NaN</td>\n",
       "    </tr>\n",
       "    <tr>\n",
       "      <th>12</th>\n",
       "      <td>2011</td>\n",
       "      <td>115000000</td>\n",
       "      <td>40000000</td>\n",
       "      <td>NaN</td>\n",
       "      <td>93100000</td>\n",
       "      <td>NaN</td>\n",
       "      <td>NaN</td>\n",
       "      <td>NaN</td>\n",
       "    </tr>\n",
       "  </tbody>\n",
       "</table>\n",
       "</div>"
      ],
      "text/plain": [
       "    Year  No_of_iPhone_Users  No_of_iPhone_Users_USA  \\\n",
       "8   2015           569000000               101000000   \n",
       "9   2014           442000000                88000000   \n",
       "10  2013           329000000                72000000   \n",
       "11  2012           206000000                51000000   \n",
       "12  2011           115000000                40000000   \n",
       "\n",
       "    Percentage_of_iPhone_Users  No_of_iPhone_Sold  No_of_iPhone_Sold_USA  \\\n",
       "8                         43.3          231500000             82500000.0   \n",
       "9                         42.3          192700000             72300000.0   \n",
       "10                         NaN          153400000             57800000.0   \n",
       "11                         NaN          135900000             44530000.0   \n",
       "12                         NaN           93100000                    NaN   \n",
       "\n",
       "    iOS_Market_Share  Android_Market_Share  \n",
       "8              50.85                 46.42  \n",
       "9              52.30                 42.58  \n",
       "10             52.79                 39.25  \n",
       "11               NaN                   NaN  \n",
       "12               NaN                   NaN  "
      ]
     },
     "execution_count": 3,
     "metadata": {},
     "output_type": "execute_result"
    }
   ],
   "source": [
    "df.tail()"
   ]
  },
  {
   "cell_type": "code",
   "execution_count": 4,
   "id": "44e4c3c1-c445-4f76-9459-fad4b26f332d",
   "metadata": {},
   "outputs": [
    {
     "data": {
      "text/html": [
       "<div>\n",
       "<style scoped>\n",
       "    .dataframe tbody tr th:only-of-type {\n",
       "        vertical-align: middle;\n",
       "    }\n",
       "\n",
       "    .dataframe tbody tr th {\n",
       "        vertical-align: top;\n",
       "    }\n",
       "\n",
       "    .dataframe thead th {\n",
       "        text-align: right;\n",
       "    }\n",
       "</style>\n",
       "<table border=\"1\" class=\"dataframe\">\n",
       "  <thead>\n",
       "    <tr style=\"text-align: right;\">\n",
       "      <th></th>\n",
       "      <th>Year</th>\n",
       "      <th>No_of_iPhone_Users</th>\n",
       "      <th>No_of_iPhone_Users_USA</th>\n",
       "      <th>Percentage_of_iPhone_Users</th>\n",
       "      <th>No_of_iPhone_Sold</th>\n",
       "      <th>No_of_iPhone_Sold_USA</th>\n",
       "      <th>iOS_Market_Share</th>\n",
       "      <th>Android_Market_Share</th>\n",
       "    </tr>\n",
       "  </thead>\n",
       "  <tbody>\n",
       "    <tr>\n",
       "      <th>0</th>\n",
       "      <td>2023</td>\n",
       "      <td>1460000000</td>\n",
       "      <td>153000000</td>\n",
       "      <td>58.33</td>\n",
       "      <td>234600000</td>\n",
       "      <td>NaN</td>\n",
       "      <td>58.10</td>\n",
       "      <td>41.46</td>\n",
       "    </tr>\n",
       "    <tr>\n",
       "      <th>1</th>\n",
       "      <td>2022</td>\n",
       "      <td>1360000000</td>\n",
       "      <td>149000000</td>\n",
       "      <td>48.70</td>\n",
       "      <td>226400000</td>\n",
       "      <td>124700000.0</td>\n",
       "      <td>56.74</td>\n",
       "      <td>42.94</td>\n",
       "    </tr>\n",
       "    <tr>\n",
       "      <th>2</th>\n",
       "      <td>2021</td>\n",
       "      <td>1230000000</td>\n",
       "      <td>141000000</td>\n",
       "      <td>46.90</td>\n",
       "      <td>235700000</td>\n",
       "      <td>116300000.0</td>\n",
       "      <td>58.58</td>\n",
       "      <td>41.11</td>\n",
       "    </tr>\n",
       "    <tr>\n",
       "      <th>3</th>\n",
       "      <td>2020</td>\n",
       "      <td>1000000000</td>\n",
       "      <td>138000000</td>\n",
       "      <td>45.30</td>\n",
       "      <td>206100000</td>\n",
       "      <td>113500000.0</td>\n",
       "      <td>59.54</td>\n",
       "      <td>40.20</td>\n",
       "    </tr>\n",
       "    <tr>\n",
       "      <th>4</th>\n",
       "      <td>2019</td>\n",
       "      <td>948000000</td>\n",
       "      <td>131000000</td>\n",
       "      <td>45.20</td>\n",
       "      <td>191000000</td>\n",
       "      <td>105200000.0</td>\n",
       "      <td>55.23</td>\n",
       "      <td>44.51</td>\n",
       "    </tr>\n",
       "  </tbody>\n",
       "</table>\n",
       "</div>"
      ],
      "text/plain": [
       "   Year  No_of_iPhone_Users  No_of_iPhone_Users_USA  \\\n",
       "0  2023          1460000000               153000000   \n",
       "1  2022          1360000000               149000000   \n",
       "2  2021          1230000000               141000000   \n",
       "3  2020          1000000000               138000000   \n",
       "4  2019           948000000               131000000   \n",
       "\n",
       "   Percentage_of_iPhone_Users  No_of_iPhone_Sold  No_of_iPhone_Sold_USA  \\\n",
       "0                       58.33          234600000                    NaN   \n",
       "1                       48.70          226400000            124700000.0   \n",
       "2                       46.90          235700000            116300000.0   \n",
       "3                       45.30          206100000            113500000.0   \n",
       "4                       45.20          191000000            105200000.0   \n",
       "\n",
       "   iOS_Market_Share  Android_Market_Share  \n",
       "0             58.10                 41.46  \n",
       "1             56.74                 42.94  \n",
       "2             58.58                 41.11  \n",
       "3             59.54                 40.20  \n",
       "4             55.23                 44.51  "
      ]
     },
     "execution_count": 4,
     "metadata": {},
     "output_type": "execute_result"
    }
   ],
   "source": [
    "df.head() # displaying only first 5 rows"
   ]
  },
  {
   "cell_type": "code",
   "execution_count": 5,
   "id": "db923cdb-0861-4c52-a910-25616bd2a93b",
   "metadata": {},
   "outputs": [
    {
     "data": {
      "text/plain": [
       "Year                            int64\n",
       "No_of_iPhone_Users              int64\n",
       "No_of_iPhone_Users_USA          int64\n",
       "Percentage_of_iPhone_Users    float64\n",
       "No_of_iPhone_Sold               int64\n",
       "No_of_iPhone_Sold_USA         float64\n",
       "iOS_Market_Share              float64\n",
       "Android_Market_Share          float64\n",
       "dtype: object"
      ]
     },
     "execution_count": 5,
     "metadata": {},
     "output_type": "execute_result"
    }
   ],
   "source": [
    "df.dtypes # this gives data types as the output"
   ]
  },
  {
   "cell_type": "code",
   "execution_count": 6,
   "id": "ac017fba-2895-436c-93b7-2abdfa3e4c7a",
   "metadata": {},
   "outputs": [
    {
     "data": {
      "text/html": [
       "<div>\n",
       "<style scoped>\n",
       "    .dataframe tbody tr th:only-of-type {\n",
       "        vertical-align: middle;\n",
       "    }\n",
       "\n",
       "    .dataframe tbody tr th {\n",
       "        vertical-align: top;\n",
       "    }\n",
       "\n",
       "    .dataframe thead th {\n",
       "        text-align: right;\n",
       "    }\n",
       "</style>\n",
       "<table border=\"1\" class=\"dataframe\">\n",
       "  <thead>\n",
       "    <tr style=\"text-align: right;\">\n",
       "      <th></th>\n",
       "      <th>Year</th>\n",
       "      <th>No_of_iPhone_Users</th>\n",
       "      <th>No_of_iPhone_Users_USA</th>\n",
       "      <th>Percentage_of_iPhone_Users</th>\n",
       "      <th>No_of_iPhone_Sold</th>\n",
       "      <th>No_of_iPhone_Sold_USA</th>\n",
       "      <th>iOS_Market_Share</th>\n",
       "      <th>Android_Market_Share</th>\n",
       "    </tr>\n",
       "  </thead>\n",
       "  <tbody>\n",
       "    <tr>\n",
       "      <th>count</th>\n",
       "      <td>13.00000</td>\n",
       "      <td>1.300000e+01</td>\n",
       "      <td>1.300000e+01</td>\n",
       "      <td>10.00000</td>\n",
       "      <td>1.300000e+01</td>\n",
       "      <td>1.100000e+01</td>\n",
       "      <td>11.000000</td>\n",
       "      <td>11.000000</td>\n",
       "    </tr>\n",
       "    <tr>\n",
       "      <th>mean</th>\n",
       "      <td>2017.00000</td>\n",
       "      <td>7.746923e+08</td>\n",
       "      <td>1.100000e+08</td>\n",
       "      <td>46.28300</td>\n",
       "      <td>1.954154e+08</td>\n",
       "      <td>9.145727e+07</td>\n",
       "      <td>55.093636</td>\n",
       "      <td>43.057273</td>\n",
       "    </tr>\n",
       "    <tr>\n",
       "      <th>std</th>\n",
       "      <td>3.89444</td>\n",
       "      <td>4.310012e+08</td>\n",
       "      <td>3.705401e+07</td>\n",
       "      <td>4.61565</td>\n",
       "      <td>4.313867e+07</td>\n",
       "      <td>2.514572e+07</td>\n",
       "      <td>2.827707</td>\n",
       "      <td>2.340351</td>\n",
       "    </tr>\n",
       "    <tr>\n",
       "      <th>min</th>\n",
       "      <td>2011.00000</td>\n",
       "      <td>1.150000e+08</td>\n",
       "      <td>4.000000e+07</td>\n",
       "      <td>42.30000</td>\n",
       "      <td>9.310000e+07</td>\n",
       "      <td>4.453000e+07</td>\n",
       "      <td>50.850000</td>\n",
       "      <td>39.250000</td>\n",
       "    </tr>\n",
       "    <tr>\n",
       "      <th>25%</th>\n",
       "      <td>2014.00000</td>\n",
       "      <td>4.420000e+08</td>\n",
       "      <td>8.800000e+07</td>\n",
       "      <td>43.67500</td>\n",
       "      <td>1.910000e+08</td>\n",
       "      <td>7.740000e+07</td>\n",
       "      <td>52.990000</td>\n",
       "      <td>41.285000</td>\n",
       "    </tr>\n",
       "    <tr>\n",
       "      <th>50%</th>\n",
       "      <td>2017.00000</td>\n",
       "      <td>8.140000e+08</td>\n",
       "      <td>1.250000e+08</td>\n",
       "      <td>45.15000</td>\n",
       "      <td>2.088000e+08</td>\n",
       "      <td>9.720000e+07</td>\n",
       "      <td>54.820000</td>\n",
       "      <td>42.940000</td>\n",
       "    </tr>\n",
       "    <tr>\n",
       "      <th>75%</th>\n",
       "      <td>2020.00000</td>\n",
       "      <td>1.000000e+09</td>\n",
       "      <td>1.380000e+08</td>\n",
       "      <td>46.50000</td>\n",
       "      <td>2.264000e+08</td>\n",
       "      <td>1.093500e+08</td>\n",
       "      <td>57.420000</td>\n",
       "      <td>44.965000</td>\n",
       "    </tr>\n",
       "    <tr>\n",
       "      <th>max</th>\n",
       "      <td>2023.00000</td>\n",
       "      <td>1.460000e+09</td>\n",
       "      <td>1.530000e+08</td>\n",
       "      <td>58.33000</td>\n",
       "      <td>2.357000e+08</td>\n",
       "      <td>1.247000e+08</td>\n",
       "      <td>59.540000</td>\n",
       "      <td>46.420000</td>\n",
       "    </tr>\n",
       "  </tbody>\n",
       "</table>\n",
       "</div>"
      ],
      "text/plain": [
       "             Year  No_of_iPhone_Users  No_of_iPhone_Users_USA  \\\n",
       "count    13.00000        1.300000e+01            1.300000e+01   \n",
       "mean   2017.00000        7.746923e+08            1.100000e+08   \n",
       "std       3.89444        4.310012e+08            3.705401e+07   \n",
       "min    2011.00000        1.150000e+08            4.000000e+07   \n",
       "25%    2014.00000        4.420000e+08            8.800000e+07   \n",
       "50%    2017.00000        8.140000e+08            1.250000e+08   \n",
       "75%    2020.00000        1.000000e+09            1.380000e+08   \n",
       "max    2023.00000        1.460000e+09            1.530000e+08   \n",
       "\n",
       "       Percentage_of_iPhone_Users  No_of_iPhone_Sold  No_of_iPhone_Sold_USA  \\\n",
       "count                    10.00000       1.300000e+01           1.100000e+01   \n",
       "mean                     46.28300       1.954154e+08           9.145727e+07   \n",
       "std                       4.61565       4.313867e+07           2.514572e+07   \n",
       "min                      42.30000       9.310000e+07           4.453000e+07   \n",
       "25%                      43.67500       1.910000e+08           7.740000e+07   \n",
       "50%                      45.15000       2.088000e+08           9.720000e+07   \n",
       "75%                      46.50000       2.264000e+08           1.093500e+08   \n",
       "max                      58.33000       2.357000e+08           1.247000e+08   \n",
       "\n",
       "       iOS_Market_Share  Android_Market_Share  \n",
       "count         11.000000             11.000000  \n",
       "mean          55.093636             43.057273  \n",
       "std            2.827707              2.340351  \n",
       "min           50.850000             39.250000  \n",
       "25%           52.990000             41.285000  \n",
       "50%           54.820000             42.940000  \n",
       "75%           57.420000             44.965000  \n",
       "max           59.540000             46.420000  "
      ]
     },
     "execution_count": 6,
     "metadata": {},
     "output_type": "execute_result"
    }
   ],
   "source": [
    "df.describe()"
   ]
  },
  {
   "cell_type": "code",
   "execution_count": 7,
   "id": "b3184ac7-6a2c-4b37-adaa-464de14c77af",
   "metadata": {},
   "outputs": [
    {
     "data": {
      "text/plain": [
       "(13, 8)"
      ]
     },
     "execution_count": 7,
     "metadata": {},
     "output_type": "execute_result"
    }
   ],
   "source": [
    "df.shape #we get an output which is in the format of rows and column"
   ]
  },
  {
   "cell_type": "code",
   "execution_count": 8,
   "id": "78bf8cf3-6486-49f8-a05d-78338829e1cf",
   "metadata": {},
   "outputs": [
    {
     "data": {
      "text/plain": [
       "['Year',\n",
       " 'No_of_iPhone_Users',\n",
       " 'No_of_iPhone_Users_USA',\n",
       " 'Percentage_of_iPhone_Users',\n",
       " 'No_of_iPhone_Sold',\n",
       " 'No_of_iPhone_Sold_USA',\n",
       " 'iOS_Market_Share',\n",
       " 'Android_Market_Share']"
      ]
     },
     "execution_count": 8,
     "metadata": {},
     "output_type": "execute_result"
    }
   ],
   "source": [
    "df.columns.tolist() # The output is for the column names in a list"
   ]
  },
  {
   "cell_type": "code",
   "execution_count": 9,
   "id": "c7fe204a-c170-4a00-8ff1-54f11864261f",
   "metadata": {},
   "outputs": [
    {
     "data": {
      "text/plain": [
       "0    3\n",
       "1    2\n",
       "2    2\n",
       "3    4\n",
       "4    1\n",
       "5    5\n",
       "6    0\n",
       "7    4\n",
       "8    2\n",
       "9    5\n",
       "dtype: int32"
      ]
     },
     "execution_count": 9,
     "metadata": {},
     "output_type": "execute_result"
    }
   ],
   "source": [
    "pd.Series(np.random.randint(0, 7, size=10)) # for value counts. The output for is a list of 10 random numbers"
   ]
  },
  {
   "cell_type": "markdown",
   "id": "bf0f5505-f62e-4fc3-ab47-e7e8858651cd",
   "metadata": {},
   "source": [
    "##### This is a NumPy function that generates random integers. 0-Represents the inclusive lower bound of the random integers. 7-Represents the exclusive upper bound of the random integers. This means the integers generated will be between 0 and 6, inclusive. Size = 10-Specifies that 10 random integers should be generated, resulting in a 1-dimensional NumPy array of 10 elements."
   ]
  },
  {
   "cell_type": "markdown",
   "id": "5b8ca5be-f50f-4ef7-ad2c-74c287c19405",
   "metadata": {},
   "source": [
    "## DATA CLEANING AND PREPROCESSING"
   ]
  },
  {
   "cell_type": "markdown",
   "id": "70bd91e6-1e4a-4ce4-b5b4-53e0b88778b7",
   "metadata": {},
   "source": [
    "#### MISSING VALUES"
   ]
  },
  {
   "cell_type": "code",
   "execution_count": 10,
   "id": "094dd462-1db7-43fb-9b72-3ae291ace778",
   "metadata": {},
   "outputs": [
    {
     "data": {
      "text/html": [
       "<div>\n",
       "<style scoped>\n",
       "    .dataframe tbody tr th:only-of-type {\n",
       "        vertical-align: middle;\n",
       "    }\n",
       "\n",
       "    .dataframe tbody tr th {\n",
       "        vertical-align: top;\n",
       "    }\n",
       "\n",
       "    .dataframe thead th {\n",
       "        text-align: right;\n",
       "    }\n",
       "</style>\n",
       "<table border=\"1\" class=\"dataframe\">\n",
       "  <thead>\n",
       "    <tr style=\"text-align: right;\">\n",
       "      <th></th>\n",
       "      <th>Year</th>\n",
       "      <th>No_of_iPhone_Users</th>\n",
       "      <th>No_of_iPhone_Users_USA</th>\n",
       "      <th>Percentage_of_iPhone_Users</th>\n",
       "      <th>No_of_iPhone_Sold</th>\n",
       "      <th>No_of_iPhone_Sold_USA</th>\n",
       "      <th>iOS_Market_Share</th>\n",
       "      <th>Android_Market_Share</th>\n",
       "    </tr>\n",
       "  </thead>\n",
       "  <tbody>\n",
       "    <tr>\n",
       "      <th>0</th>\n",
       "      <td>False</td>\n",
       "      <td>False</td>\n",
       "      <td>False</td>\n",
       "      <td>False</td>\n",
       "      <td>False</td>\n",
       "      <td>True</td>\n",
       "      <td>False</td>\n",
       "      <td>False</td>\n",
       "    </tr>\n",
       "    <tr>\n",
       "      <th>1</th>\n",
       "      <td>False</td>\n",
       "      <td>False</td>\n",
       "      <td>False</td>\n",
       "      <td>False</td>\n",
       "      <td>False</td>\n",
       "      <td>False</td>\n",
       "      <td>False</td>\n",
       "      <td>False</td>\n",
       "    </tr>\n",
       "    <tr>\n",
       "      <th>2</th>\n",
       "      <td>False</td>\n",
       "      <td>False</td>\n",
       "      <td>False</td>\n",
       "      <td>False</td>\n",
       "      <td>False</td>\n",
       "      <td>False</td>\n",
       "      <td>False</td>\n",
       "      <td>False</td>\n",
       "    </tr>\n",
       "    <tr>\n",
       "      <th>3</th>\n",
       "      <td>False</td>\n",
       "      <td>False</td>\n",
       "      <td>False</td>\n",
       "      <td>False</td>\n",
       "      <td>False</td>\n",
       "      <td>False</td>\n",
       "      <td>False</td>\n",
       "      <td>False</td>\n",
       "    </tr>\n",
       "    <tr>\n",
       "      <th>4</th>\n",
       "      <td>False</td>\n",
       "      <td>False</td>\n",
       "      <td>False</td>\n",
       "      <td>False</td>\n",
       "      <td>False</td>\n",
       "      <td>False</td>\n",
       "      <td>False</td>\n",
       "      <td>False</td>\n",
       "    </tr>\n",
       "    <tr>\n",
       "      <th>5</th>\n",
       "      <td>False</td>\n",
       "      <td>False</td>\n",
       "      <td>False</td>\n",
       "      <td>False</td>\n",
       "      <td>False</td>\n",
       "      <td>False</td>\n",
       "      <td>False</td>\n",
       "      <td>False</td>\n",
       "    </tr>\n",
       "    <tr>\n",
       "      <th>6</th>\n",
       "      <td>False</td>\n",
       "      <td>False</td>\n",
       "      <td>False</td>\n",
       "      <td>False</td>\n",
       "      <td>False</td>\n",
       "      <td>False</td>\n",
       "      <td>False</td>\n",
       "      <td>False</td>\n",
       "    </tr>\n",
       "    <tr>\n",
       "      <th>7</th>\n",
       "      <td>False</td>\n",
       "      <td>False</td>\n",
       "      <td>False</td>\n",
       "      <td>False</td>\n",
       "      <td>False</td>\n",
       "      <td>False</td>\n",
       "      <td>False</td>\n",
       "      <td>False</td>\n",
       "    </tr>\n",
       "    <tr>\n",
       "      <th>8</th>\n",
       "      <td>False</td>\n",
       "      <td>False</td>\n",
       "      <td>False</td>\n",
       "      <td>False</td>\n",
       "      <td>False</td>\n",
       "      <td>False</td>\n",
       "      <td>False</td>\n",
       "      <td>False</td>\n",
       "    </tr>\n",
       "    <tr>\n",
       "      <th>9</th>\n",
       "      <td>False</td>\n",
       "      <td>False</td>\n",
       "      <td>False</td>\n",
       "      <td>False</td>\n",
       "      <td>False</td>\n",
       "      <td>False</td>\n",
       "      <td>False</td>\n",
       "      <td>False</td>\n",
       "    </tr>\n",
       "    <tr>\n",
       "      <th>10</th>\n",
       "      <td>False</td>\n",
       "      <td>False</td>\n",
       "      <td>False</td>\n",
       "      <td>True</td>\n",
       "      <td>False</td>\n",
       "      <td>False</td>\n",
       "      <td>False</td>\n",
       "      <td>False</td>\n",
       "    </tr>\n",
       "    <tr>\n",
       "      <th>11</th>\n",
       "      <td>False</td>\n",
       "      <td>False</td>\n",
       "      <td>False</td>\n",
       "      <td>True</td>\n",
       "      <td>False</td>\n",
       "      <td>False</td>\n",
       "      <td>True</td>\n",
       "      <td>True</td>\n",
       "    </tr>\n",
       "    <tr>\n",
       "      <th>12</th>\n",
       "      <td>False</td>\n",
       "      <td>False</td>\n",
       "      <td>False</td>\n",
       "      <td>True</td>\n",
       "      <td>False</td>\n",
       "      <td>True</td>\n",
       "      <td>True</td>\n",
       "      <td>True</td>\n",
       "    </tr>\n",
       "  </tbody>\n",
       "</table>\n",
       "</div>"
      ],
      "text/plain": [
       "     Year  No_of_iPhone_Users  No_of_iPhone_Users_USA  \\\n",
       "0   False               False                   False   \n",
       "1   False               False                   False   \n",
       "2   False               False                   False   \n",
       "3   False               False                   False   \n",
       "4   False               False                   False   \n",
       "5   False               False                   False   \n",
       "6   False               False                   False   \n",
       "7   False               False                   False   \n",
       "8   False               False                   False   \n",
       "9   False               False                   False   \n",
       "10  False               False                   False   \n",
       "11  False               False                   False   \n",
       "12  False               False                   False   \n",
       "\n",
       "    Percentage_of_iPhone_Users  No_of_iPhone_Sold  No_of_iPhone_Sold_USA  \\\n",
       "0                        False              False                   True   \n",
       "1                        False              False                  False   \n",
       "2                        False              False                  False   \n",
       "3                        False              False                  False   \n",
       "4                        False              False                  False   \n",
       "5                        False              False                  False   \n",
       "6                        False              False                  False   \n",
       "7                        False              False                  False   \n",
       "8                        False              False                  False   \n",
       "9                        False              False                  False   \n",
       "10                        True              False                  False   \n",
       "11                        True              False                  False   \n",
       "12                        True              False                   True   \n",
       "\n",
       "    iOS_Market_Share  Android_Market_Share  \n",
       "0              False                 False  \n",
       "1              False                 False  \n",
       "2              False                 False  \n",
       "3              False                 False  \n",
       "4              False                 False  \n",
       "5              False                 False  \n",
       "6              False                 False  \n",
       "7              False                 False  \n",
       "8              False                 False  \n",
       "9              False                 False  \n",
       "10             False                 False  \n",
       "11              True                  True  \n",
       "12              True                  True  "
      ]
     },
     "execution_count": 10,
     "metadata": {},
     "output_type": "execute_result"
    }
   ],
   "source": [
    "df.isnull() # displaying missing values"
   ]
  },
  {
   "cell_type": "code",
   "execution_count": 11,
   "id": "dca272ff-295c-4d0d-9cac-3674695a913f",
   "metadata": {},
   "outputs": [
    {
     "data": {
      "text/plain": [
       "Year                          0\n",
       "No_of_iPhone_Users            0\n",
       "No_of_iPhone_Users_USA        0\n",
       "Percentage_of_iPhone_Users    3\n",
       "No_of_iPhone_Sold             0\n",
       "No_of_iPhone_Sold_USA         2\n",
       "iOS_Market_Share              2\n",
       "Android_Market_Share          2\n",
       "dtype: int64"
      ]
     },
     "execution_count": 11,
     "metadata": {},
     "output_type": "execute_result"
    }
   ],
   "source": [
    "df.isnull().sum() # This is used to count the number of missing values in each column of a DataFrame."
   ]
  },
  {
   "cell_type": "code",
   "execution_count": 12,
   "id": "2b6cefcb-7189-477c-9e52-92f20aba72ea",
   "metadata": {},
   "outputs": [
    {
     "name": "stdout",
     "output_type": "stream",
     "text": [
      "<class 'pandas.core.frame.DataFrame'>\n",
      "RangeIndex: 13 entries, 0 to 12\n",
      "Data columns (total 8 columns):\n",
      " #   Column                      Non-Null Count  Dtype  \n",
      "---  ------                      --------------  -----  \n",
      " 0   Year                        13 non-null     int64  \n",
      " 1   No_of_iPhone_Users          13 non-null     int64  \n",
      " 2   No_of_iPhone_Users_USA      13 non-null     int64  \n",
      " 3   Percentage_of_iPhone_Users  10 non-null     float64\n",
      " 4   No_of_iPhone_Sold           13 non-null     int64  \n",
      " 5   No_of_iPhone_Sold_USA       11 non-null     float64\n",
      " 6   iOS_Market_Share            11 non-null     float64\n",
      " 7   Android_Market_Share        11 non-null     float64\n",
      "dtypes: float64(4), int64(4)\n",
      "memory usage: 964.0 bytes\n"
     ]
    }
   ],
   "source": [
    "df.info() # we are getting an output that shows a summary of the dataframe"
   ]
  },
  {
   "cell_type": "code",
   "execution_count": 13,
   "id": "182257ac-7b9e-4a46-add6-481ddfb6a157",
   "metadata": {},
   "outputs": [
    {
     "data": {
      "text/plain": [
       "Year                           0.000000\n",
       "No_of_iPhone_Users             0.000000\n",
       "No_of_iPhone_Users_USA         0.000000\n",
       "Percentage_of_iPhone_Users    23.076923\n",
       "No_of_iPhone_Sold              0.000000\n",
       "No_of_iPhone_Sold_USA         15.384615\n",
       "iOS_Market_Share              15.384615\n",
       "Android_Market_Share          15.384615\n",
       "dtype: float64"
      ]
     },
     "execution_count": 13,
     "metadata": {},
     "output_type": "execute_result"
    }
   ],
   "source": [
    "missing_percentage = df.isnull().sum() * 100 / len(df) #this function returns the percentages of  of the missing values per column. The .sum() method returns 1 and false as 0. Why? This is because the .sum() calculates the sum of 1s (which represent null values) for each column.\n",
    "missing_percentage "
   ]
  },
  {
   "cell_type": "code",
   "execution_count": 14,
   "id": "8bfc41f5-360c-42cf-8bf9-6f617aaa8bc4",
   "metadata": {},
   "outputs": [
    {
     "data": {
      "text/plain": [
       "Year  No_of_iPhone_Users  No_of_iPhone_Users_USA  Percentage_of_iPhone_Users  No_of_iPhone_Sold  No_of_iPhone_Sold_USA  iOS_Market_Share  Android_Market_Share\n",
       "2014  442000000           88000000                42.3                        192700000          72300000.0             52.30             42.58                   1\n",
       "2015  569000000           101000000               43.3                        231500000          82500000.0             50.85             46.42                   1\n",
       "2016  710000000           114000000               43.5                        215400000          90100000.0             53.19             45.20                   1\n",
       "2017  814000000           125000000               44.2                        215800000          97200000.0             53.89             45.23                   1\n",
       "2018  888000000           127000000               45.1                        208800000          101900000.0            54.82             44.73                   1\n",
       "2019  948000000           131000000               45.2                        191000000          105200000.0            55.23             44.51                   1\n",
       "2020  1000000000          138000000               45.3                        206100000          113500000.0            59.54             40.20                   1\n",
       "2021  1230000000          141000000               46.9                        235700000          116300000.0            58.58             41.11                   1\n",
       "2022  1360000000          149000000               48.7                        226400000          124700000.0            56.74             42.94                   1\n",
       "Name: count, dtype: int64"
      ]
     },
     "execution_count": 14,
     "metadata": {},
     "output_type": "execute_result"
    }
   ],
   "source": [
    "df.value_counts()"
   ]
  },
  {
   "cell_type": "code",
   "execution_count": 15,
   "id": "cba18bec-1caa-4449-9aa1-443a102703fd",
   "metadata": {},
   "outputs": [
    {
     "data": {
      "text/plain": [
       "Year\n",
       "2023    1\n",
       "2022    1\n",
       "2021    1\n",
       "2020    1\n",
       "2019    1\n",
       "2018    1\n",
       "2017    1\n",
       "2016    1\n",
       "2015    1\n",
       "2014    1\n",
       "2013    1\n",
       "2012    1\n",
       "2011    1\n",
       "Name: count, dtype: int64"
      ]
     },
     "execution_count": 15,
     "metadata": {},
     "output_type": "execute_result"
    }
   ],
   "source": [
    "Model_counts = df[\"Year\"].value_counts() # Counting each year  are in the dataframe\n",
    "Model_counts"
   ]
  },
  {
   "cell_type": "code",
   "execution_count": 16,
   "id": "0130d011-cd69-40c2-a067-b0f50f299a83",
   "metadata": {},
   "outputs": [
    {
     "data": {
      "text/plain": [
       "<bound method DataFrame.pivot_table of     Year  No_of_iPhone_Users  No_of_iPhone_Users_USA  \\\n",
       "0   2023          1460000000               153000000   \n",
       "1   2022          1360000000               149000000   \n",
       "2   2021          1230000000               141000000   \n",
       "3   2020          1000000000               138000000   \n",
       "4   2019           948000000               131000000   \n",
       "5   2018           888000000               127000000   \n",
       "6   2017           814000000               125000000   \n",
       "7   2016           710000000               114000000   \n",
       "8   2015           569000000               101000000   \n",
       "9   2014           442000000                88000000   \n",
       "10  2013           329000000                72000000   \n",
       "11  2012           206000000                51000000   \n",
       "12  2011           115000000                40000000   \n",
       "\n",
       "    Percentage_of_iPhone_Users  No_of_iPhone_Sold  No_of_iPhone_Sold_USA  \\\n",
       "0                        58.33          234600000                    NaN   \n",
       "1                        48.70          226400000            124700000.0   \n",
       "2                        46.90          235700000            116300000.0   \n",
       "3                        45.30          206100000            113500000.0   \n",
       "4                        45.20          191000000            105200000.0   \n",
       "5                        45.10          208800000            101900000.0   \n",
       "6                        44.20          215800000             97200000.0   \n",
       "7                        43.50          215400000             90100000.0   \n",
       "8                        43.30          231500000             82500000.0   \n",
       "9                        42.30          192700000             72300000.0   \n",
       "10                         NaN          153400000             57800000.0   \n",
       "11                         NaN          135900000             44530000.0   \n",
       "12                         NaN           93100000                    NaN   \n",
       "\n",
       "    iOS_Market_Share  Android_Market_Share  \n",
       "0              58.10                 41.46  \n",
       "1              56.74                 42.94  \n",
       "2              58.58                 41.11  \n",
       "3              59.54                 40.20  \n",
       "4              55.23                 44.51  \n",
       "5              54.82                 44.73  \n",
       "6              53.89                 45.23  \n",
       "7              53.19                 45.20  \n",
       "8              50.85                 46.42  \n",
       "9              52.30                 42.58  \n",
       "10             52.79                 39.25  \n",
       "11               NaN                   NaN  \n",
       "12               NaN                   NaN  >"
      ]
     },
     "execution_count": 16,
     "metadata": {},
     "output_type": "execute_result"
    }
   ],
   "source": [
    "df.pivot_table"
   ]
  },
  {
   "cell_type": "markdown",
   "id": "b013cc97-3007-4396-8c62-1799f3103522",
   "metadata": {},
   "source": [
    "##### A pivot table in pandas is a powerful data summarization tool that allows users to reorganize and aggregate data from a DataFrame to gain insights and identify patterns. It functions similarly to pivot tables found in spreadsheet"
   ]
  },
  {
   "cell_type": "markdown",
   "id": "e86aad28-ae35-42e9-9f7a-da8c9a2d71ed",
   "metadata": {},
   "source": [
    "#### DATA ANALYSIS"
   ]
  },
  {
   "cell_type": "code",
   "execution_count": 17,
   "id": "a4790a13-2fa5-4b19-9c4d-bc633f3f87d1",
   "metadata": {},
   "outputs": [
    {
     "data": {
      "text/plain": [
       "<bound method DataFrame.groupby of     Year  No_of_iPhone_Users  No_of_iPhone_Users_USA  \\\n",
       "0   2023          1460000000               153000000   \n",
       "1   2022          1360000000               149000000   \n",
       "2   2021          1230000000               141000000   \n",
       "3   2020          1000000000               138000000   \n",
       "4   2019           948000000               131000000   \n",
       "5   2018           888000000               127000000   \n",
       "6   2017           814000000               125000000   \n",
       "7   2016           710000000               114000000   \n",
       "8   2015           569000000               101000000   \n",
       "9   2014           442000000                88000000   \n",
       "10  2013           329000000                72000000   \n",
       "11  2012           206000000                51000000   \n",
       "12  2011           115000000                40000000   \n",
       "\n",
       "    Percentage_of_iPhone_Users  No_of_iPhone_Sold  No_of_iPhone_Sold_USA  \\\n",
       "0                        58.33          234600000                    NaN   \n",
       "1                        48.70          226400000            124700000.0   \n",
       "2                        46.90          235700000            116300000.0   \n",
       "3                        45.30          206100000            113500000.0   \n",
       "4                        45.20          191000000            105200000.0   \n",
       "5                        45.10          208800000            101900000.0   \n",
       "6                        44.20          215800000             97200000.0   \n",
       "7                        43.50          215400000             90100000.0   \n",
       "8                        43.30          231500000             82500000.0   \n",
       "9                        42.30          192700000             72300000.0   \n",
       "10                         NaN          153400000             57800000.0   \n",
       "11                         NaN          135900000             44530000.0   \n",
       "12                         NaN           93100000                    NaN   \n",
       "\n",
       "    iOS_Market_Share  Android_Market_Share  \n",
       "0              58.10                 41.46  \n",
       "1              56.74                 42.94  \n",
       "2              58.58                 41.11  \n",
       "3              59.54                 40.20  \n",
       "4              55.23                 44.51  \n",
       "5              54.82                 44.73  \n",
       "6              53.89                 45.23  \n",
       "7              53.19                 45.20  \n",
       "8              50.85                 46.42  \n",
       "9              52.30                 42.58  \n",
       "10             52.79                 39.25  \n",
       "11               NaN                   NaN  \n",
       "12               NaN                   NaN  >"
      ]
     },
     "execution_count": 17,
     "metadata": {},
     "output_type": "execute_result"
    }
   ],
   "source": [
    "df.groupby # this function used to split a DataFrame into groups based on one or more criteria, typically the unique values within a column or columns"
   ]
  },
  {
   "cell_type": "code",
   "execution_count": 18,
   "id": "4bcd20d0-245e-4ea6-8818-0604622e195b",
   "metadata": {},
   "outputs": [
    {
     "data": {
      "text/plain": [
       "Year\n",
       "2011     0.00\n",
       "2012     0.00\n",
       "2013    52.79\n",
       "2014    52.30\n",
       "2015    50.85\n",
       "2016    53.19\n",
       "2017    53.89\n",
       "2018    54.82\n",
       "2019    55.23\n",
       "2020    59.54\n",
       "2021    58.58\n",
       "2022    56.74\n",
       "2023    58.10\n",
       "Name: iOS_Market_Share, dtype: float64"
      ]
     },
     "execution_count": 18,
     "metadata": {},
     "output_type": "execute_result"
    }
   ],
   "source": [
    "df.groupby('Year')['iOS_Market_Share'].sum() # Finding iOS_Market_Share by Year"
   ]
  },
  {
   "cell_type": "code",
   "execution_count": 19,
   "id": "6d23b1cb-113c-4d5b-9dcd-acbf9092e8de",
   "metadata": {},
   "outputs": [
    {
     "data": {
      "text/plain": [
       "Year\n",
       "2011     93100000\n",
       "2012    135900000\n",
       "2013    153400000\n",
       "2019    191000000\n",
       "2014    192700000\n",
       "2020    206100000\n",
       "2018    208800000\n",
       "2016    215400000\n",
       "2017    215800000\n",
       "2022    226400000\n",
       "2015    231500000\n",
       "2023    234600000\n",
       "2021    235700000\n",
       "Name: No_of_iPhone_Sold, dtype: int64"
      ]
     },
     "execution_count": 19,
     "metadata": {},
     "output_type": "execute_result"
    }
   ],
   "source": [
    "df.groupby('Year')['No_of_iPhone_Sold'].sum().sort_values(ascending=True) # Finding No_of_iPhone_Sold  by Year"
   ]
  },
  {
   "cell_type": "code",
   "execution_count": 57,
   "id": "04230bfd-cccd-49c0-b495-4ea8b9444e7e",
   "metadata": {},
   "outputs": [
    {
     "data": {
      "text/html": [
       "<div>\n",
       "<style scoped>\n",
       "    .dataframe tbody tr th:only-of-type {\n",
       "        vertical-align: middle;\n",
       "    }\n",
       "\n",
       "    .dataframe tbody tr th {\n",
       "        vertical-align: top;\n",
       "    }\n",
       "\n",
       "    .dataframe thead th {\n",
       "        text-align: right;\n",
       "    }\n",
       "</style>\n",
       "<table border=\"1\" class=\"dataframe\">\n",
       "  <thead>\n",
       "    <tr style=\"text-align: right;\">\n",
       "      <th></th>\n",
       "      <th>Year</th>\n",
       "      <th>No_of_iPhone_Users</th>\n",
       "      <th>No_of_iPhone_Users_USA</th>\n",
       "      <th>Percentage_of_iPhone_Users</th>\n",
       "      <th>No_of_iPhone_Sold</th>\n",
       "      <th>No_of_iPhone_Sold_USA</th>\n",
       "      <th>iOS_Market_Share</th>\n",
       "      <th>Android_Market_Share</th>\n",
       "    </tr>\n",
       "  </thead>\n",
       "  <tbody>\n",
       "    <tr>\n",
       "      <th>12</th>\n",
       "      <td>2011</td>\n",
       "      <td>115000000</td>\n",
       "      <td>40000000</td>\n",
       "      <td>NaN</td>\n",
       "      <td>93100000</td>\n",
       "      <td>NaN</td>\n",
       "      <td>NaN</td>\n",
       "      <td>NaN</td>\n",
       "    </tr>\n",
       "    <tr>\n",
       "      <th>11</th>\n",
       "      <td>2012</td>\n",
       "      <td>206000000</td>\n",
       "      <td>51000000</td>\n",
       "      <td>NaN</td>\n",
       "      <td>135900000</td>\n",
       "      <td>44530000.0</td>\n",
       "      <td>NaN</td>\n",
       "      <td>NaN</td>\n",
       "    </tr>\n",
       "    <tr>\n",
       "      <th>10</th>\n",
       "      <td>2013</td>\n",
       "      <td>329000000</td>\n",
       "      <td>72000000</td>\n",
       "      <td>NaN</td>\n",
       "      <td>153400000</td>\n",
       "      <td>57800000.0</td>\n",
       "      <td>52.79</td>\n",
       "      <td>39.25</td>\n",
       "    </tr>\n",
       "    <tr>\n",
       "      <th>9</th>\n",
       "      <td>2014</td>\n",
       "      <td>442000000</td>\n",
       "      <td>88000000</td>\n",
       "      <td>42.30</td>\n",
       "      <td>192700000</td>\n",
       "      <td>72300000.0</td>\n",
       "      <td>52.30</td>\n",
       "      <td>42.58</td>\n",
       "    </tr>\n",
       "    <tr>\n",
       "      <th>8</th>\n",
       "      <td>2015</td>\n",
       "      <td>569000000</td>\n",
       "      <td>101000000</td>\n",
       "      <td>43.30</td>\n",
       "      <td>231500000</td>\n",
       "      <td>82500000.0</td>\n",
       "      <td>50.85</td>\n",
       "      <td>46.42</td>\n",
       "    </tr>\n",
       "    <tr>\n",
       "      <th>7</th>\n",
       "      <td>2016</td>\n",
       "      <td>710000000</td>\n",
       "      <td>114000000</td>\n",
       "      <td>43.50</td>\n",
       "      <td>215400000</td>\n",
       "      <td>90100000.0</td>\n",
       "      <td>53.19</td>\n",
       "      <td>45.20</td>\n",
       "    </tr>\n",
       "    <tr>\n",
       "      <th>6</th>\n",
       "      <td>2017</td>\n",
       "      <td>814000000</td>\n",
       "      <td>125000000</td>\n",
       "      <td>44.20</td>\n",
       "      <td>215800000</td>\n",
       "      <td>97200000.0</td>\n",
       "      <td>53.89</td>\n",
       "      <td>45.23</td>\n",
       "    </tr>\n",
       "    <tr>\n",
       "      <th>5</th>\n",
       "      <td>2018</td>\n",
       "      <td>888000000</td>\n",
       "      <td>127000000</td>\n",
       "      <td>45.10</td>\n",
       "      <td>208800000</td>\n",
       "      <td>101900000.0</td>\n",
       "      <td>54.82</td>\n",
       "      <td>44.73</td>\n",
       "    </tr>\n",
       "    <tr>\n",
       "      <th>4</th>\n",
       "      <td>2019</td>\n",
       "      <td>948000000</td>\n",
       "      <td>131000000</td>\n",
       "      <td>45.20</td>\n",
       "      <td>191000000</td>\n",
       "      <td>105200000.0</td>\n",
       "      <td>55.23</td>\n",
       "      <td>44.51</td>\n",
       "    </tr>\n",
       "    <tr>\n",
       "      <th>3</th>\n",
       "      <td>2020</td>\n",
       "      <td>1000000000</td>\n",
       "      <td>138000000</td>\n",
       "      <td>45.30</td>\n",
       "      <td>206100000</td>\n",
       "      <td>113500000.0</td>\n",
       "      <td>59.54</td>\n",
       "      <td>40.20</td>\n",
       "    </tr>\n",
       "    <tr>\n",
       "      <th>2</th>\n",
       "      <td>2021</td>\n",
       "      <td>1230000000</td>\n",
       "      <td>141000000</td>\n",
       "      <td>46.90</td>\n",
       "      <td>235700000</td>\n",
       "      <td>116300000.0</td>\n",
       "      <td>58.58</td>\n",
       "      <td>41.11</td>\n",
       "    </tr>\n",
       "    <tr>\n",
       "      <th>1</th>\n",
       "      <td>2022</td>\n",
       "      <td>1360000000</td>\n",
       "      <td>149000000</td>\n",
       "      <td>48.70</td>\n",
       "      <td>226400000</td>\n",
       "      <td>124700000.0</td>\n",
       "      <td>56.74</td>\n",
       "      <td>42.94</td>\n",
       "    </tr>\n",
       "    <tr>\n",
       "      <th>0</th>\n",
       "      <td>2023</td>\n",
       "      <td>1460000000</td>\n",
       "      <td>153000000</td>\n",
       "      <td>58.33</td>\n",
       "      <td>234600000</td>\n",
       "      <td>NaN</td>\n",
       "      <td>58.10</td>\n",
       "      <td>41.46</td>\n",
       "    </tr>\n",
       "  </tbody>\n",
       "</table>\n",
       "</div>"
      ],
      "text/plain": [
       "    Year  No_of_iPhone_Users  No_of_iPhone_Users_USA  \\\n",
       "12  2011           115000000                40000000   \n",
       "11  2012           206000000                51000000   \n",
       "10  2013           329000000                72000000   \n",
       "9   2014           442000000                88000000   \n",
       "8   2015           569000000               101000000   \n",
       "7   2016           710000000               114000000   \n",
       "6   2017           814000000               125000000   \n",
       "5   2018           888000000               127000000   \n",
       "4   2019           948000000               131000000   \n",
       "3   2020          1000000000               138000000   \n",
       "2   2021          1230000000               141000000   \n",
       "1   2022          1360000000               149000000   \n",
       "0   2023          1460000000               153000000   \n",
       "\n",
       "    Percentage_of_iPhone_Users  No_of_iPhone_Sold  No_of_iPhone_Sold_USA  \\\n",
       "12                         NaN           93100000                    NaN   \n",
       "11                         NaN          135900000             44530000.0   \n",
       "10                         NaN          153400000             57800000.0   \n",
       "9                        42.30          192700000             72300000.0   \n",
       "8                        43.30          231500000             82500000.0   \n",
       "7                        43.50          215400000             90100000.0   \n",
       "6                        44.20          215800000             97200000.0   \n",
       "5                        45.10          208800000            101900000.0   \n",
       "4                        45.20          191000000            105200000.0   \n",
       "3                        45.30          206100000            113500000.0   \n",
       "2                        46.90          235700000            116300000.0   \n",
       "1                        48.70          226400000            124700000.0   \n",
       "0                        58.33          234600000                    NaN   \n",
       "\n",
       "    iOS_Market_Share  Android_Market_Share  \n",
       "12               NaN                   NaN  \n",
       "11               NaN                   NaN  \n",
       "10             52.79                 39.25  \n",
       "9              52.30                 42.58  \n",
       "8              50.85                 46.42  \n",
       "7              53.19                 45.20  \n",
       "6              53.89                 45.23  \n",
       "5              54.82                 44.73  \n",
       "4              55.23                 44.51  \n",
       "3              59.54                 40.20  \n",
       "2              58.58                 41.11  \n",
       "1              56.74                 42.94  \n",
       "0              58.10                 41.46  "
      ]
     },
     "execution_count": 57,
     "metadata": {},
     "output_type": "execute_result"
    }
   ],
   "source": [
    "df.sorted = df.sort_values(by=\"Year\", ascending=True) # We are sorting our dataset based on the years column in descending order\n",
    "df.sorted                                              #Keep in mind that year is an attribute name and pandas does not support columns created via attribe names "
   ]
  },
  {
   "cell_type": "code",
   "execution_count": 21,
   "id": "92d7e502-8918-44fb-88bd-68628bdf2018",
   "metadata": {},
   "outputs": [
    {
     "data": {
      "text/html": [
       "<div>\n",
       "<style scoped>\n",
       "    .dataframe tbody tr th:only-of-type {\n",
       "        vertical-align: middle;\n",
       "    }\n",
       "\n",
       "    .dataframe tbody tr th {\n",
       "        vertical-align: top;\n",
       "    }\n",
       "\n",
       "    .dataframe thead th {\n",
       "        text-align: right;\n",
       "    }\n",
       "</style>\n",
       "<table border=\"1\" class=\"dataframe\">\n",
       "  <thead>\n",
       "    <tr style=\"text-align: right;\">\n",
       "      <th></th>\n",
       "      <th>Year</th>\n",
       "      <th>No_of_iPhone_Users</th>\n",
       "      <th>No_of_iPhone_Users_USA</th>\n",
       "      <th>Percentage_of_iPhone_Users</th>\n",
       "      <th>No_of_iPhone_Sold</th>\n",
       "      <th>No_of_iPhone_Sold_USA</th>\n",
       "      <th>iOS_Market_Share</th>\n",
       "      <th>Android_Market_Share</th>\n",
       "    </tr>\n",
       "  </thead>\n",
       "  <tbody>\n",
       "    <tr>\n",
       "      <th>0</th>\n",
       "      <td>2023</td>\n",
       "      <td>1460000000</td>\n",
       "      <td>153000000</td>\n",
       "      <td>58.33</td>\n",
       "      <td>234600000</td>\n",
       "      <td>NaN</td>\n",
       "      <td>58.10</td>\n",
       "      <td>41.46</td>\n",
       "    </tr>\n",
       "    <tr>\n",
       "      <th>1</th>\n",
       "      <td>2022</td>\n",
       "      <td>1360000000</td>\n",
       "      <td>149000000</td>\n",
       "      <td>48.70</td>\n",
       "      <td>226400000</td>\n",
       "      <td>124700000.0</td>\n",
       "      <td>56.74</td>\n",
       "      <td>42.94</td>\n",
       "    </tr>\n",
       "    <tr>\n",
       "      <th>2</th>\n",
       "      <td>2021</td>\n",
       "      <td>1230000000</td>\n",
       "      <td>141000000</td>\n",
       "      <td>46.90</td>\n",
       "      <td>235700000</td>\n",
       "      <td>116300000.0</td>\n",
       "      <td>58.58</td>\n",
       "      <td>41.11</td>\n",
       "    </tr>\n",
       "    <tr>\n",
       "      <th>3</th>\n",
       "      <td>2020</td>\n",
       "      <td>1000000000</td>\n",
       "      <td>138000000</td>\n",
       "      <td>45.30</td>\n",
       "      <td>206100000</td>\n",
       "      <td>113500000.0</td>\n",
       "      <td>59.54</td>\n",
       "      <td>40.20</td>\n",
       "    </tr>\n",
       "    <tr>\n",
       "      <th>4</th>\n",
       "      <td>2019</td>\n",
       "      <td>948000000</td>\n",
       "      <td>131000000</td>\n",
       "      <td>45.20</td>\n",
       "      <td>191000000</td>\n",
       "      <td>105200000.0</td>\n",
       "      <td>55.23</td>\n",
       "      <td>44.51</td>\n",
       "    </tr>\n",
       "    <tr>\n",
       "      <th>5</th>\n",
       "      <td>2018</td>\n",
       "      <td>888000000</td>\n",
       "      <td>127000000</td>\n",
       "      <td>45.10</td>\n",
       "      <td>208800000</td>\n",
       "      <td>101900000.0</td>\n",
       "      <td>54.82</td>\n",
       "      <td>44.73</td>\n",
       "    </tr>\n",
       "    <tr>\n",
       "      <th>6</th>\n",
       "      <td>2017</td>\n",
       "      <td>814000000</td>\n",
       "      <td>125000000</td>\n",
       "      <td>44.20</td>\n",
       "      <td>215800000</td>\n",
       "      <td>97200000.0</td>\n",
       "      <td>53.89</td>\n",
       "      <td>45.23</td>\n",
       "    </tr>\n",
       "    <tr>\n",
       "      <th>7</th>\n",
       "      <td>2016</td>\n",
       "      <td>710000000</td>\n",
       "      <td>114000000</td>\n",
       "      <td>43.50</td>\n",
       "      <td>215400000</td>\n",
       "      <td>90100000.0</td>\n",
       "      <td>53.19</td>\n",
       "      <td>45.20</td>\n",
       "    </tr>\n",
       "    <tr>\n",
       "      <th>8</th>\n",
       "      <td>2015</td>\n",
       "      <td>569000000</td>\n",
       "      <td>101000000</td>\n",
       "      <td>43.30</td>\n",
       "      <td>231500000</td>\n",
       "      <td>82500000.0</td>\n",
       "      <td>50.85</td>\n",
       "      <td>46.42</td>\n",
       "    </tr>\n",
       "    <tr>\n",
       "      <th>9</th>\n",
       "      <td>2014</td>\n",
       "      <td>442000000</td>\n",
       "      <td>88000000</td>\n",
       "      <td>42.30</td>\n",
       "      <td>192700000</td>\n",
       "      <td>72300000.0</td>\n",
       "      <td>52.30</td>\n",
       "      <td>42.58</td>\n",
       "    </tr>\n",
       "    <tr>\n",
       "      <th>10</th>\n",
       "      <td>2013</td>\n",
       "      <td>329000000</td>\n",
       "      <td>72000000</td>\n",
       "      <td>NaN</td>\n",
       "      <td>153400000</td>\n",
       "      <td>57800000.0</td>\n",
       "      <td>52.79</td>\n",
       "      <td>39.25</td>\n",
       "    </tr>\n",
       "    <tr>\n",
       "      <th>11</th>\n",
       "      <td>2012</td>\n",
       "      <td>206000000</td>\n",
       "      <td>51000000</td>\n",
       "      <td>NaN</td>\n",
       "      <td>135900000</td>\n",
       "      <td>44530000.0</td>\n",
       "      <td>NaN</td>\n",
       "      <td>NaN</td>\n",
       "    </tr>\n",
       "    <tr>\n",
       "      <th>12</th>\n",
       "      <td>2011</td>\n",
       "      <td>115000000</td>\n",
       "      <td>40000000</td>\n",
       "      <td>NaN</td>\n",
       "      <td>93100000</td>\n",
       "      <td>NaN</td>\n",
       "      <td>NaN</td>\n",
       "      <td>NaN</td>\n",
       "    </tr>\n",
       "  </tbody>\n",
       "</table>\n",
       "</div>"
      ],
      "text/plain": [
       "    Year  No_of_iPhone_Users  No_of_iPhone_Users_USA  \\\n",
       "0   2023          1460000000               153000000   \n",
       "1   2022          1360000000               149000000   \n",
       "2   2021          1230000000               141000000   \n",
       "3   2020          1000000000               138000000   \n",
       "4   2019           948000000               131000000   \n",
       "5   2018           888000000               127000000   \n",
       "6   2017           814000000               125000000   \n",
       "7   2016           710000000               114000000   \n",
       "8   2015           569000000               101000000   \n",
       "9   2014           442000000                88000000   \n",
       "10  2013           329000000                72000000   \n",
       "11  2012           206000000                51000000   \n",
       "12  2011           115000000                40000000   \n",
       "\n",
       "    Percentage_of_iPhone_Users  No_of_iPhone_Sold  No_of_iPhone_Sold_USA  \\\n",
       "0                        58.33          234600000                    NaN   \n",
       "1                        48.70          226400000            124700000.0   \n",
       "2                        46.90          235700000            116300000.0   \n",
       "3                        45.30          206100000            113500000.0   \n",
       "4                        45.20          191000000            105200000.0   \n",
       "5                        45.10          208800000            101900000.0   \n",
       "6                        44.20          215800000             97200000.0   \n",
       "7                        43.50          215400000             90100000.0   \n",
       "8                        43.30          231500000             82500000.0   \n",
       "9                        42.30          192700000             72300000.0   \n",
       "10                         NaN          153400000             57800000.0   \n",
       "11                         NaN          135900000             44530000.0   \n",
       "12                         NaN           93100000                    NaN   \n",
       "\n",
       "    iOS_Market_Share  Android_Market_Share  \n",
       "0              58.10                 41.46  \n",
       "1              56.74                 42.94  \n",
       "2              58.58                 41.11  \n",
       "3              59.54                 40.20  \n",
       "4              55.23                 44.51  \n",
       "5              54.82                 44.73  \n",
       "6              53.89                 45.23  \n",
       "7              53.19                 45.20  \n",
       "8              50.85                 46.42  \n",
       "9              52.30                 42.58  \n",
       "10             52.79                 39.25  \n",
       "11               NaN                   NaN  \n",
       "12               NaN                   NaN  "
      ]
     },
     "execution_count": 21,
     "metadata": {},
     "output_type": "execute_result"
    }
   ],
   "source": [
    "df.sorted = df.sort_values(by=\"Percentage_of_iPhone_Users\", ascending=False) # We are sorting our dataset based on the Percentage_of_iPhone_Users column in descending order\n",
    "df.sorted"
   ]
  },
  {
   "cell_type": "markdown",
   "id": "14e989dd-5be4-46e1-bc35-add67365272a",
   "metadata": {},
   "source": [
    "#### DUPLICATION DETECTION AND REMOVAL"
   ]
  },
  {
   "cell_type": "code",
   "execution_count": 22,
   "id": "d0f2db45-4f39-4f82-b49c-a615b61cbf25",
   "metadata": {},
   "outputs": [
    {
     "data": {
      "text/plain": [
       "0     False\n",
       "1     False\n",
       "2     False\n",
       "3     False\n",
       "4     False\n",
       "5     False\n",
       "6     False\n",
       "7     False\n",
       "8     False\n",
       "9     False\n",
       "10    False\n",
       "11    False\n",
       "12    False\n",
       "dtype: bool"
      ]
     },
     "execution_count": 22,
     "metadata": {},
     "output_type": "execute_result"
    }
   ],
   "source": [
    "df.duplicated() # This function helps Identify rows that are duplicated"
   ]
  },
  {
   "cell_type": "code",
   "execution_count": 23,
   "id": "77037e28-974e-4d9c-b1a7-2a6c02fa05be",
   "metadata": {},
   "outputs": [
    {
     "data": {
      "text/plain": [
       "np.int64(0)"
      ]
     },
     "execution_count": 23,
     "metadata": {},
     "output_type": "execute_result"
    }
   ],
   "source": [
    "df.duplicated().sum()"
   ]
  },
  {
   "cell_type": "code",
   "execution_count": 24,
   "id": "1fa8fc58-513a-4e64-b1ae-5237dac22bd6",
   "metadata": {},
   "outputs": [
    {
     "data": {
      "text/plain": [
       "0     58.10\n",
       "1     56.74\n",
       "2     58.58\n",
       "3     59.54\n",
       "4     55.23\n",
       "5     54.82\n",
       "6     53.89\n",
       "7     53.19\n",
       "8     50.85\n",
       "9     52.30\n",
       "10    52.79\n",
       "11      NaN\n",
       "12      NaN\n",
       "Name: iOS_Market_Share, dtype: float64"
      ]
     },
     "execution_count": 24,
     "metadata": {},
     "output_type": "execute_result"
    }
   ],
   "source": [
    "data = df['iOS_Market_Share']\n",
    "data"
   ]
  },
  {
   "cell_type": "code",
   "execution_count": 25,
   "id": "8e88f406-d12b-4029-8d67-6ffd368590ac",
   "metadata": {},
   "outputs": [],
   "source": [
    "z_scores = np.abs((data - data.mean()) / data.std())# calculates the absolute Z-scores for each data point in a dataset in a given array, providing a standardized measure of how far each data point deviates from the mean in terms of standard deviations."
   ]
  },
  {
   "cell_type": "code",
   "execution_count": 26,
   "id": "2c4f47d6-6ea0-45a1-864a-4fa4ad202d1a",
   "metadata": {},
   "outputs": [],
   "source": [
    "outliers_zscore = data[z_scores > 3] # Identify outliers. Selecting values where the Z-score exceeds 3 which is thecommon threshold for outliers"
   ]
  },
  {
   "cell_type": "code",
   "execution_count": 27,
   "id": "3eaadf19-9f91-4135-9085-04c0972d04da",
   "metadata": {},
   "outputs": [
    {
     "data": {
      "text/plain": [
       "Series([], Name: iOS_Market_Share, dtype: float64)"
      ]
     },
     "execution_count": 27,
     "metadata": {},
     "output_type": "execute_result"
    }
   ],
   "source": [
    "outliers_zscore #displaying outliers"
   ]
  },
  {
   "cell_type": "code",
   "execution_count": 28,
   "id": "7c50e6eb-8fe9-48f0-96b3-ab24e1b38fca",
   "metadata": {},
   "outputs": [],
   "source": [
    "Q1 = data.quantile(0.25) # Calculate Q1, Q3, and IQR\n",
    "Q3 = data.quantile(0.75)\n",
    "IQR = Q3 - Q1"
   ]
  },
  {
   "cell_type": "code",
   "execution_count": 29,
   "id": "dcb9e622-c594-4198-ab75-cf441129d7bc",
   "metadata": {},
   "outputs": [
    {
     "data": {
      "text/plain": [
       "np.float64(4.430000000000007)"
      ]
     },
     "execution_count": 29,
     "metadata": {},
     "output_type": "execute_result"
    }
   ],
   "source": [
    "IQR #Inter Quartile Range."
   ]
  },
  {
   "cell_type": "code",
   "execution_count": 30,
   "id": "1fc99074-5c33-44ac-889d-8027c2433e88",
   "metadata": {},
   "outputs": [],
   "source": [
    "lower_bound = Q1 - 1.5 * IQR  # we are going to define outlier bounds\n",
    "upper_bound = Q3 + 1.5 * IQR #Outlier bounds are calculated limits in a dataset that determine if a data point is an outlier"
   ]
  },
  {
   "cell_type": "code",
   "execution_count": 31,
   "id": "f678d4fe-1680-4507-9427-1b662042f9dd",
   "metadata": {},
   "outputs": [
    {
     "name": "stdout",
     "output_type": "stream",
     "text": [
      "n/UPPER BOUND: 46.344999999999985\n",
      "n/UPPER BOUND: 64.06500000000001\n"
     ]
    }
   ],
   "source": [
    "print(\"n/UPPER BOUND:\" ,lower_bound) \n",
    "print(\"n/UPPER BOUND:\" ,upper_bound)"
   ]
  },
  {
   "cell_type": "code",
   "execution_count": 32,
   "id": "a324088e-1a36-475c-a312-5883d43f9adc",
   "metadata": {},
   "outputs": [
    {
     "data": {
      "text/plain": [
       "Series([], Name: iOS_Market_Share, dtype: float64)"
      ]
     },
     "execution_count": 32,
     "metadata": {},
     "output_type": "execute_result"
    }
   ],
   "source": [
    "outliers_iqr = data[(data < lower_bound) | (data > upper_bound)] # Identify outliers\n",
    "outliers_iqr"
   ]
  },
  {
   "cell_type": "code",
   "execution_count": 33,
   "id": "a264aa5f-18c5-4b6e-9be8-e4acb3c2bddd",
   "metadata": {},
   "outputs": [
    {
     "data": {
      "image/png": "[encoded data removed]",
      "text/plain": [
       "<Figure size 800x600 with 1 Axes>"
      ]
     },
     "metadata": {},
     "output_type": "display_data"
    }
   ],
   "source": [
    "# Box plot\n",
    "plt.figure(figsize=(8, 6)) #figsize=(width,length)\n",
    "sns.boxplot(y=data)\n",
    "plt.title('Box Plot of Data')\n",
    "plt.show()"
   ]
  },
  {
   "cell_type": "markdown",
   "id": "ecfd6c91-33b3-4f08-8345-fe4cf1c5feec",
   "metadata": {},
   "source": [
    "##### This code creates a box plot to visualize the distribution of a dataset, sets its size and title, and then displays it. Box plots are useful for summarizing the five-number summary (minimum, first quartile, median, third quartile, and maximum) of a dataset and identifying potential outliers."
   ]
  },
  {
   "cell_type": "code",
   "execution_count": 34,
   "id": "08913d05-4223-463e-a3c8-ffc879b992ec",
   "metadata": {},
   "outputs": [
    {
     "data": {
      "image/png": "[encoded data removed]",
      "text/plain": [
       "<Figure size 400x800 with 1 Axes>"
      ]
     },
     "metadata": {},
     "output_type": "display_data"
    }
   ],
   "source": [
    "# Histogram\n",
    "plt.figure(figsize=(4, 8))\n",
    "sns.histplot(data,color='red') #The argument `kde=True` adds a Kernel Density Estimate (KDE) plot on top of the histogram. The KDE is a smooth, continuous estimate of the probability density function of the variable.\n",
    "plt.title('Histogram of Data')\n",
    "plt.show()"
   ]
  },
  {
   "cell_type": "code",
   "execution_count": 35,
   "id": "9292988c-f508-46ef-82ae-c7f35dbcb965",
   "metadata": {},
   "outputs": [
    {
     "data": {
      "text/html": [
       "<div>\n",
       "<style scoped>\n",
       "    .dataframe tbody tr th:only-of-type {\n",
       "        vertical-align: middle;\n",
       "    }\n",
       "\n",
       "    .dataframe tbody tr th {\n",
       "        vertical-align: top;\n",
       "    }\n",
       "\n",
       "    .dataframe thead th {\n",
       "        text-align: right;\n",
       "    }\n",
       "</style>\n",
       "<table border=\"1\" class=\"dataframe\">\n",
       "  <thead>\n",
       "    <tr style=\"text-align: right;\">\n",
       "      <th></th>\n",
       "      <th>Year</th>\n",
       "      <th>No_of_iPhone_Users</th>\n",
       "      <th>No_of_iPhone_Users_USA</th>\n",
       "      <th>Percentage_of_iPhone_Users</th>\n",
       "      <th>No_of_iPhone_Sold</th>\n",
       "      <th>No_of_iPhone_Sold_USA</th>\n",
       "      <th>iOS_Market_Share</th>\n",
       "      <th>Android_Market_Share</th>\n",
       "    </tr>\n",
       "  </thead>\n",
       "  <tbody>\n",
       "    <tr>\n",
       "      <th>1</th>\n",
       "      <td>2022</td>\n",
       "      <td>1360000000</td>\n",
       "      <td>149000000</td>\n",
       "      <td>48.7</td>\n",
       "      <td>226400000</td>\n",
       "      <td>124700000.0</td>\n",
       "      <td>56.74</td>\n",
       "      <td>42.94</td>\n",
       "    </tr>\n",
       "    <tr>\n",
       "      <th>2</th>\n",
       "      <td>2021</td>\n",
       "      <td>1230000000</td>\n",
       "      <td>141000000</td>\n",
       "      <td>46.9</td>\n",
       "      <td>235700000</td>\n",
       "      <td>116300000.0</td>\n",
       "      <td>58.58</td>\n",
       "      <td>41.11</td>\n",
       "    </tr>\n",
       "    <tr>\n",
       "      <th>3</th>\n",
       "      <td>2020</td>\n",
       "      <td>1000000000</td>\n",
       "      <td>138000000</td>\n",
       "      <td>45.3</td>\n",
       "      <td>206100000</td>\n",
       "      <td>113500000.0</td>\n",
       "      <td>59.54</td>\n",
       "      <td>40.20</td>\n",
       "    </tr>\n",
       "    <tr>\n",
       "      <th>4</th>\n",
       "      <td>2019</td>\n",
       "      <td>948000000</td>\n",
       "      <td>131000000</td>\n",
       "      <td>45.2</td>\n",
       "      <td>191000000</td>\n",
       "      <td>105200000.0</td>\n",
       "      <td>55.23</td>\n",
       "      <td>44.51</td>\n",
       "    </tr>\n",
       "    <tr>\n",
       "      <th>5</th>\n",
       "      <td>2018</td>\n",
       "      <td>888000000</td>\n",
       "      <td>127000000</td>\n",
       "      <td>45.1</td>\n",
       "      <td>208800000</td>\n",
       "      <td>101900000.0</td>\n",
       "      <td>54.82</td>\n",
       "      <td>44.73</td>\n",
       "    </tr>\n",
       "    <tr>\n",
       "      <th>6</th>\n",
       "      <td>2017</td>\n",
       "      <td>814000000</td>\n",
       "      <td>125000000</td>\n",
       "      <td>44.2</td>\n",
       "      <td>215800000</td>\n",
       "      <td>97200000.0</td>\n",
       "      <td>53.89</td>\n",
       "      <td>45.23</td>\n",
       "    </tr>\n",
       "    <tr>\n",
       "      <th>7</th>\n",
       "      <td>2016</td>\n",
       "      <td>710000000</td>\n",
       "      <td>114000000</td>\n",
       "      <td>43.5</td>\n",
       "      <td>215400000</td>\n",
       "      <td>90100000.0</td>\n",
       "      <td>53.19</td>\n",
       "      <td>45.20</td>\n",
       "    </tr>\n",
       "    <tr>\n",
       "      <th>8</th>\n",
       "      <td>2015</td>\n",
       "      <td>569000000</td>\n",
       "      <td>101000000</td>\n",
       "      <td>43.3</td>\n",
       "      <td>231500000</td>\n",
       "      <td>82500000.0</td>\n",
       "      <td>50.85</td>\n",
       "      <td>46.42</td>\n",
       "    </tr>\n",
       "    <tr>\n",
       "      <th>9</th>\n",
       "      <td>2014</td>\n",
       "      <td>442000000</td>\n",
       "      <td>88000000</td>\n",
       "      <td>42.3</td>\n",
       "      <td>192700000</td>\n",
       "      <td>72300000.0</td>\n",
       "      <td>52.30</td>\n",
       "      <td>42.58</td>\n",
       "    </tr>\n",
       "  </tbody>\n",
       "</table>\n",
       "</div>"
      ],
      "text/plain": [
       "   Year  No_of_iPhone_Users  No_of_iPhone_Users_USA  \\\n",
       "1  2022          1360000000               149000000   \n",
       "2  2021          1230000000               141000000   \n",
       "3  2020          1000000000               138000000   \n",
       "4  2019           948000000               131000000   \n",
       "5  2018           888000000               127000000   \n",
       "6  2017           814000000               125000000   \n",
       "7  2016           710000000               114000000   \n",
       "8  2015           569000000               101000000   \n",
       "9  2014           442000000                88000000   \n",
       "\n",
       "   Percentage_of_iPhone_Users  No_of_iPhone_Sold  No_of_iPhone_Sold_USA  \\\n",
       "1                        48.7          226400000            124700000.0   \n",
       "2                        46.9          235700000            116300000.0   \n",
       "3                        45.3          206100000            113500000.0   \n",
       "4                        45.2          191000000            105200000.0   \n",
       "5                        45.1          208800000            101900000.0   \n",
       "6                        44.2          215800000             97200000.0   \n",
       "7                        43.5          215400000             90100000.0   \n",
       "8                        43.3          231500000             82500000.0   \n",
       "9                        42.3          192700000             72300000.0   \n",
       "\n",
       "   iOS_Market_Share  Android_Market_Share  \n",
       "1             56.74                 42.94  \n",
       "2             58.58                 41.11  \n",
       "3             59.54                 40.20  \n",
       "4             55.23                 44.51  \n",
       "5             54.82                 44.73  \n",
       "6             53.89                 45.23  \n",
       "7             53.19                 45.20  \n",
       "8             50.85                 46.42  \n",
       "9             52.30                 42.58  "
      ]
     },
     "execution_count": 35,
     "metadata": {},
     "output_type": "execute_result"
    }
   ],
   "source": [
    "df.dropna() # removing duplicates and missing values in our dataset"
   ]
  },
  {
   "cell_type": "code",
   "execution_count": 36,
   "id": "8acd8405-7400-49f6-8c82-0de3ac38b944",
   "metadata": {},
   "outputs": [
    {
     "data": {
      "text/html": [
       "<div>\n",
       "<style scoped>\n",
       "    .dataframe tbody tr th:only-of-type {\n",
       "        vertical-align: middle;\n",
       "    }\n",
       "\n",
       "    .dataframe tbody tr th {\n",
       "        vertical-align: top;\n",
       "    }\n",
       "\n",
       "    .dataframe thead th {\n",
       "        text-align: right;\n",
       "    }\n",
       "</style>\n",
       "<table border=\"1\" class=\"dataframe\">\n",
       "  <thead>\n",
       "    <tr style=\"text-align: right;\">\n",
       "      <th></th>\n",
       "      <th>Year</th>\n",
       "      <th>No_of_iPhone_Users</th>\n",
       "      <th>No_of_iPhone_Users_USA</th>\n",
       "      <th>Percentage_of_iPhone_Users</th>\n",
       "      <th>No_of_iPhone_Sold</th>\n",
       "      <th>No_of_iPhone_Sold_USA</th>\n",
       "      <th>iOS_Market_Share</th>\n",
       "      <th>Android_Market_Share</th>\n",
       "    </tr>\n",
       "  </thead>\n",
       "  <tbody>\n",
       "    <tr>\n",
       "      <th>1</th>\n",
       "      <td>2022</td>\n",
       "      <td>1360000000</td>\n",
       "      <td>149000000</td>\n",
       "      <td>48.7</td>\n",
       "      <td>226400000</td>\n",
       "      <td>124700000.0</td>\n",
       "      <td>56.74</td>\n",
       "      <td>42.94</td>\n",
       "    </tr>\n",
       "    <tr>\n",
       "      <th>2</th>\n",
       "      <td>2021</td>\n",
       "      <td>1230000000</td>\n",
       "      <td>141000000</td>\n",
       "      <td>46.9</td>\n",
       "      <td>235700000</td>\n",
       "      <td>116300000.0</td>\n",
       "      <td>58.58</td>\n",
       "      <td>41.11</td>\n",
       "    </tr>\n",
       "    <tr>\n",
       "      <th>3</th>\n",
       "      <td>2020</td>\n",
       "      <td>1000000000</td>\n",
       "      <td>138000000</td>\n",
       "      <td>45.3</td>\n",
       "      <td>206100000</td>\n",
       "      <td>113500000.0</td>\n",
       "      <td>59.54</td>\n",
       "      <td>40.20</td>\n",
       "    </tr>\n",
       "    <tr>\n",
       "      <th>4</th>\n",
       "      <td>2019</td>\n",
       "      <td>948000000</td>\n",
       "      <td>131000000</td>\n",
       "      <td>45.2</td>\n",
       "      <td>191000000</td>\n",
       "      <td>105200000.0</td>\n",
       "      <td>55.23</td>\n",
       "      <td>44.51</td>\n",
       "    </tr>\n",
       "    <tr>\n",
       "      <th>5</th>\n",
       "      <td>2018</td>\n",
       "      <td>888000000</td>\n",
       "      <td>127000000</td>\n",
       "      <td>45.1</td>\n",
       "      <td>208800000</td>\n",
       "      <td>101900000.0</td>\n",
       "      <td>54.82</td>\n",
       "      <td>44.73</td>\n",
       "    </tr>\n",
       "    <tr>\n",
       "      <th>6</th>\n",
       "      <td>2017</td>\n",
       "      <td>814000000</td>\n",
       "      <td>125000000</td>\n",
       "      <td>44.2</td>\n",
       "      <td>215800000</td>\n",
       "      <td>97200000.0</td>\n",
       "      <td>53.89</td>\n",
       "      <td>45.23</td>\n",
       "    </tr>\n",
       "    <tr>\n",
       "      <th>7</th>\n",
       "      <td>2016</td>\n",
       "      <td>710000000</td>\n",
       "      <td>114000000</td>\n",
       "      <td>43.5</td>\n",
       "      <td>215400000</td>\n",
       "      <td>90100000.0</td>\n",
       "      <td>53.19</td>\n",
       "      <td>45.20</td>\n",
       "    </tr>\n",
       "    <tr>\n",
       "      <th>8</th>\n",
       "      <td>2015</td>\n",
       "      <td>569000000</td>\n",
       "      <td>101000000</td>\n",
       "      <td>43.3</td>\n",
       "      <td>231500000</td>\n",
       "      <td>82500000.0</td>\n",
       "      <td>50.85</td>\n",
       "      <td>46.42</td>\n",
       "    </tr>\n",
       "    <tr>\n",
       "      <th>9</th>\n",
       "      <td>2014</td>\n",
       "      <td>442000000</td>\n",
       "      <td>88000000</td>\n",
       "      <td>42.3</td>\n",
       "      <td>192700000</td>\n",
       "      <td>72300000.0</td>\n",
       "      <td>52.30</td>\n",
       "      <td>42.58</td>\n",
       "    </tr>\n",
       "  </tbody>\n",
       "</table>\n",
       "</div>"
      ],
      "text/plain": [
       "   Year  No_of_iPhone_Users  No_of_iPhone_Users_USA  \\\n",
       "1  2022          1360000000               149000000   \n",
       "2  2021          1230000000               141000000   \n",
       "3  2020          1000000000               138000000   \n",
       "4  2019           948000000               131000000   \n",
       "5  2018           888000000               127000000   \n",
       "6  2017           814000000               125000000   \n",
       "7  2016           710000000               114000000   \n",
       "8  2015           569000000               101000000   \n",
       "9  2014           442000000                88000000   \n",
       "\n",
       "   Percentage_of_iPhone_Users  No_of_iPhone_Sold  No_of_iPhone_Sold_USA  \\\n",
       "1                        48.7          226400000            124700000.0   \n",
       "2                        46.9          235700000            116300000.0   \n",
       "3                        45.3          206100000            113500000.0   \n",
       "4                        45.2          191000000            105200000.0   \n",
       "5                        45.1          208800000            101900000.0   \n",
       "6                        44.2          215800000             97200000.0   \n",
       "7                        43.5          215400000             90100000.0   \n",
       "8                        43.3          231500000             82500000.0   \n",
       "9                        42.3          192700000             72300000.0   \n",
       "\n",
       "   iOS_Market_Share  Android_Market_Share  \n",
       "1             56.74                 42.94  \n",
       "2             58.58                 41.11  \n",
       "3             59.54                 40.20  \n",
       "4             55.23                 44.51  \n",
       "5             54.82                 44.73  \n",
       "6             53.89                 45.23  \n",
       "7             53.19                 45.20  \n",
       "8             50.85                 46.42  \n",
       "9             52.30                 42.58  "
      ]
     },
     "execution_count": 36,
     "metadata": {},
     "output_type": "execute_result"
    }
   ],
   "source": [
    "df1 = df.dropna() # renaming our cleaned dataset\n",
    "df1"
   ]
  },
  {
   "cell_type": "markdown",
   "id": "7a22e52a-9d39-4c75-a703-cac2100560a0",
   "metadata": {},
   "source": [
    "#### VISIUALIZATION"
   ]
  },
  {
   "cell_type": "code",
   "execution_count": 37,
   "id": "2e69b998-3ebf-4a44-87ba-f342d00e42b1",
   "metadata": {},
   "outputs": [
    {
     "data": {
      "image/png": "[encoded data removed]",
      "text/plain": [
       "<Figure size 1000x600 with 1 Axes>"
      ]
     },
     "metadata": {},
     "output_type": "display_data"
    }
   ],
   "source": [
    "df1[['No_of_iPhone_Users', 'No_of_iPhone_Users_USA']].plot(figsize=(10, 6), title='iPhone Users Over Time')\n",
    "plt.ylabel('Number of Users')\n",
    "plt.xlabel('Year')\n",
    "plt.show()"
   ]
  },
  {
   "cell_type": "code",
   "execution_count": 38,
   "id": "5f70e313-4ac9-4a5d-909e-1aa841d545ff",
   "metadata": {},
   "outputs": [
    {
     "data": {
      "image/png": "[encoded data removed]",
      "text/plain": [
       "<Figure size 1000x600 with 1 Axes>"
      ]
     },
     "metadata": {},
     "output_type": "display_data"
    }
   ],
   "source": [
    "# Line plot for Market Share over time\n",
    "df1[['iOS_Market_Share', 'Android_Market_Share']].plot(figsize=(10, 6), title='Market Share Over Time')\n",
    "plt.ylabel('Market Share (%)')\n",
    "plt.xlabel('Year')\n",
    "plt.show()"
   ]
  },
  {
   "cell_type": "code",
   "execution_count": 39,
   "id": "e519f45b-7435-4835-9e80-9fb1bcb1183a",
   "metadata": {},
   "outputs": [
    {
     "data": {
      "image/png": "[encoded data removed]",
      "text/plain": [
       "<Figure size 1000x600 with 1 Axes>"
      ]
     },
     "metadata": {},
     "output_type": "display_data"
    }
   ],
   "source": [
    "df1['No_of_iPhone_Sold'].plot(kind='bar', figsize=(10, 6), title='Number of iPhones Sold Per Year')\n",
    "plt.xlabel('Year')\n",
    "plt.ylabel('Number of iPhones Sold')\n",
    "plt.xticks(rotation=45)\n",
    "plt.tight_layout()\n",
    "plt.show()"
   ]
  },
  {
   "cell_type": "code",
   "execution_count": 40,
   "id": "afd8576f-7a24-44c6-9fb6-7b71a0efa928",
   "metadata": {},
   "outputs": [
    {
     "data": {
      "image/png": "[encoded data removed]",
      "text/plain": [
       "<Figure size 1000x600 with 1 Axes>"
      ]
     },
     "metadata": {},
     "output_type": "display_data"
    }
   ],
   "source": [
    "df1.plot(kind='scatter', x='No_of_iPhone_Users', y='No_of_iPhone_Sold', figsize=(10, 6), title='iPhone Users vs. iPhone Sales')\n",
    "plt.xlabel('Number of iPhone Users (Worldwide)')\n",
    "plt.ylabel('Number of iPhones Sold (Worldwide)')\n",
    "plt.show()"
   ]
  },
  {
   "cell_type": "code",
   "execution_count": 56,
   "id": "b5f01e45-1e6e-4ad9-a87f-a2c307ff4fd4",
   "metadata": {},
   "outputs": [
    {
     "data": {
      "image/png": "[encoded data removed]",
      "text/plain": [
       "<Figure size 2000x1000 with 1 Axes>"
      ]
     },
     "metadata": {},
     "output_type": "display_data"
    }
   ],
   "source": [
    "df1.boxplot(figsize=(20, 10))\n",
    "plt.title('Box Plot of Market Share')\n",
    "plt.ylabel('Market Share (%)')\n",
    "plt.show()"
   ]
  },
  {
   "cell_type": "code",
   "execution_count": 42,
   "id": "1e5289ea-2b9f-45d9-b31c-30cb8ae780c8",
   "metadata": {},
   "outputs": [
    {
     "name": "stdout",
     "output_type": "stream",
     "text": [
      "Correlation Matrix:\n"
     ]
    },
    {
     "data": {
      "text/html": [
       "<div>\n",
       "<style scoped>\n",
       "    .dataframe tbody tr th:only-of-type {\n",
       "        vertical-align: middle;\n",
       "    }\n",
       "\n",
       "    .dataframe tbody tr th {\n",
       "        vertical-align: top;\n",
       "    }\n",
       "\n",
       "    .dataframe thead th {\n",
       "        text-align: right;\n",
       "    }\n",
       "</style>\n",
       "<table border=\"1\" class=\"dataframe\">\n",
       "  <thead>\n",
       "    <tr style=\"text-align: right;\">\n",
       "      <th></th>\n",
       "      <th>Year</th>\n",
       "      <th>No_of_iPhone_Users</th>\n",
       "      <th>No_of_iPhone_Users_USA</th>\n",
       "      <th>Percentage_of_iPhone_Users</th>\n",
       "      <th>No_of_iPhone_Sold</th>\n",
       "      <th>No_of_iPhone_Sold_USA</th>\n",
       "      <th>iOS_Market_Share</th>\n",
       "      <th>Android_Market_Share</th>\n",
       "    </tr>\n",
       "  </thead>\n",
       "  <tbody>\n",
       "    <tr>\n",
       "      <th>Year</th>\n",
       "      <td>1.000000</td>\n",
       "      <td>0.987266</td>\n",
       "      <td>0.970223</td>\n",
       "      <td>0.958705</td>\n",
       "      <td>0.299662</td>\n",
       "      <td>0.991940</td>\n",
       "      <td>0.876780</td>\n",
       "      <td>-0.554257</td>\n",
       "    </tr>\n",
       "    <tr>\n",
       "      <th>No_of_iPhone_Users</th>\n",
       "      <td>0.987266</td>\n",
       "      <td>1.000000</td>\n",
       "      <td>0.964850</td>\n",
       "      <td>0.981430</td>\n",
       "      <td>0.389527</td>\n",
       "      <td>0.982995</td>\n",
       "      <td>0.815727</td>\n",
       "      <td>-0.477992</td>\n",
       "    </tr>\n",
       "    <tr>\n",
       "      <th>No_of_iPhone_Users_USA</th>\n",
       "      <td>0.970223</td>\n",
       "      <td>0.964850</td>\n",
       "      <td>1.000000</td>\n",
       "      <td>0.915359</td>\n",
       "      <td>0.298238</td>\n",
       "      <td>0.990355</td>\n",
       "      <td>0.840822</td>\n",
       "      <td>-0.425796</td>\n",
       "    </tr>\n",
       "    <tr>\n",
       "      <th>Percentage_of_iPhone_Users</th>\n",
       "      <td>0.958705</td>\n",
       "      <td>0.981430</td>\n",
       "      <td>0.915359</td>\n",
       "      <td>1.000000</td>\n",
       "      <td>0.419189</td>\n",
       "      <td>0.949122</td>\n",
       "      <td>0.728932</td>\n",
       "      <td>-0.419902</td>\n",
       "    </tr>\n",
       "    <tr>\n",
       "      <th>No_of_iPhone_Sold</th>\n",
       "      <td>0.299662</td>\n",
       "      <td>0.389527</td>\n",
       "      <td>0.298238</td>\n",
       "      <td>0.419189</td>\n",
       "      <td>1.000000</td>\n",
       "      <td>0.323375</td>\n",
       "      <td>0.108703</td>\n",
       "      <td>0.054114</td>\n",
       "    </tr>\n",
       "    <tr>\n",
       "      <th>No_of_iPhone_Sold_USA</th>\n",
       "      <td>0.991940</td>\n",
       "      <td>0.982995</td>\n",
       "      <td>0.990355</td>\n",
       "      <td>0.949122</td>\n",
       "      <td>0.323375</td>\n",
       "      <td>1.000000</td>\n",
       "      <td>0.860905</td>\n",
       "      <td>-0.492295</td>\n",
       "    </tr>\n",
       "    <tr>\n",
       "      <th>iOS_Market_Share</th>\n",
       "      <td>0.876780</td>\n",
       "      <td>0.815727</td>\n",
       "      <td>0.840822</td>\n",
       "      <td>0.728932</td>\n",
       "      <td>0.108703</td>\n",
       "      <td>0.860905</td>\n",
       "      <td>1.000000</td>\n",
       "      <td>-0.823540</td>\n",
       "    </tr>\n",
       "    <tr>\n",
       "      <th>Android_Market_Share</th>\n",
       "      <td>-0.554257</td>\n",
       "      <td>-0.477992</td>\n",
       "      <td>-0.425796</td>\n",
       "      <td>-0.419902</td>\n",
       "      <td>0.054114</td>\n",
       "      <td>-0.492295</td>\n",
       "      <td>-0.823540</td>\n",
       "      <td>1.000000</td>\n",
       "    </tr>\n",
       "  </tbody>\n",
       "</table>\n",
       "</div>"
      ],
      "text/plain": [
       "                                Year  No_of_iPhone_Users  \\\n",
       "Year                        1.000000            0.987266   \n",
       "No_of_iPhone_Users          0.987266            1.000000   \n",
       "No_of_iPhone_Users_USA      0.970223            0.964850   \n",
       "Percentage_of_iPhone_Users  0.958705            0.981430   \n",
       "No_of_iPhone_Sold           0.299662            0.389527   \n",
       "No_of_iPhone_Sold_USA       0.991940            0.982995   \n",
       "iOS_Market_Share            0.876780            0.815727   \n",
       "Android_Market_Share       -0.554257           -0.477992   \n",
       "\n",
       "                            No_of_iPhone_Users_USA  \\\n",
       "Year                                      0.970223   \n",
       "No_of_iPhone_Users                        0.964850   \n",
       "No_of_iPhone_Users_USA                    1.000000   \n",
       "Percentage_of_iPhone_Users                0.915359   \n",
       "No_of_iPhone_Sold                         0.298238   \n",
       "No_of_iPhone_Sold_USA                     0.990355   \n",
       "iOS_Market_Share                          0.840822   \n",
       "Android_Market_Share                     -0.425796   \n",
       "\n",
       "                            Percentage_of_iPhone_Users  No_of_iPhone_Sold  \\\n",
       "Year                                          0.958705           0.299662   \n",
       "No_of_iPhone_Users                            0.981430           0.389527   \n",
       "No_of_iPhone_Users_USA                        0.915359           0.298238   \n",
       "Percentage_of_iPhone_Users                    1.000000           0.419189   \n",
       "No_of_iPhone_Sold                             0.419189           1.000000   \n",
       "No_of_iPhone_Sold_USA                         0.949122           0.323375   \n",
       "iOS_Market_Share                              0.728932           0.108703   \n",
       "Android_Market_Share                         -0.419902           0.054114   \n",
       "\n",
       "                            No_of_iPhone_Sold_USA  iOS_Market_Share  \\\n",
       "Year                                     0.991940          0.876780   \n",
       "No_of_iPhone_Users                       0.982995          0.815727   \n",
       "No_of_iPhone_Users_USA                   0.990355          0.840822   \n",
       "Percentage_of_iPhone_Users               0.949122          0.728932   \n",
       "No_of_iPhone_Sold                        0.323375          0.108703   \n",
       "No_of_iPhone_Sold_USA                    1.000000          0.860905   \n",
       "iOS_Market_Share                         0.860905          1.000000   \n",
       "Android_Market_Share                    -0.492295         -0.823540   \n",
       "\n",
       "                            Android_Market_Share  \n",
       "Year                                   -0.554257  \n",
       "No_of_iPhone_Users                     -0.477992  \n",
       "No_of_iPhone_Users_USA                 -0.425796  \n",
       "Percentage_of_iPhone_Users             -0.419902  \n",
       "No_of_iPhone_Sold                       0.054114  \n",
       "No_of_iPhone_Sold_USA                  -0.492295  \n",
       "iOS_Market_Share                       -0.823540  \n",
       "Android_Market_Share                    1.000000  "
      ]
     },
     "execution_count": 42,
     "metadata": {},
     "output_type": "execute_result"
    }
   ],
   "source": [
    "# Computing the correlation matrix\n",
    "correlation_matrix = df1.corr()\n",
    "\n",
    "# Display the correlation matrix\n",
    "print(\"Correlation Matrix:\")\n",
    "correlation_matrix"
   ]
  },
  {
   "cell_type": "code",
   "execution_count": 43,
   "id": "bb8ff805-609b-4c4a-a096-43d89d2a0da5",
   "metadata": {},
   "outputs": [
    {
     "data": {
      "image/png": "[encoded data removed]",
      "text/plain": [
       "<Figure size 1000x800 with 2 Axes>"
      ]
     },
     "metadata": {},
     "output_type": "display_data"
    }
   ],
   "source": [
    "plt.figure(figsize=(10, 8))\n",
    "sns.heatmap(correlation_matrix, annot=True, linewidths=0.5) # linewidth seperates the boxs providing better views\n",
    "plt.title('Correlation Heatmap of iPhone Dataset', fontsize=16)\n",
    "plt.show()"
   ]
  },
  {
   "cell_type": "markdown",
   "id": "1bf8d33b-a9e7-408a-b673-04d61e2e5139",
   "metadata": {},
   "source": [
    "#####  Over time, more and more people are choosing iPhones, both in the US and around the world. This also means that more iPhones are being sold, which makes sense because more people want them. As iPhone use grows, Apple's share of the smartphone market (iOS) also gets bigger. However, this growth for Apple often means that the share of the market held by Android phones shrinks, showing that they're competing for the same customers. It's a bit like a seesaw: when one goes up, the other tends to go down."
   ]
  },
  {
   "cell_type": "code",
   "execution_count": null,
   "id": "628c46ab-39ea-4fe2-9d3c-b77efbe42e62",
   "metadata": {},
   "outputs": [],
   "source": []
  },
  {
   "cell_type": "markdown",
   "id": "6e334e1c-48fc-4cd1-a6e5-79e1251ee2b2",
   "metadata": {},
   "source": [
    "#### LINEAR REGRESSION"
   ]
  },
  {
   "cell_type": "markdown",
   "id": "748d1d8b-4764-4508-93bf-aecaff7db602",
   "metadata": {},
   "source": [
    "##### This finds the line of best fit to summarize the trend in the data, allowing you to predict future outcomes and understand relationships between variables.\n",
    "##### Linear Regression is  used to model the relationship between a dependent variable and one or more independent variables"
   ]
  },
  {
   "cell_type": "markdown",
   "id": "5a29832f-772d-43b1-b02f-1e33c9a6ff96",
   "metadata": {},
   "source": [
    "#### Loading a Linear model from sklearn for Linear Regression and also model selection for traintest split"
   ]
  },
  {
   "cell_type": "code",
   "execution_count": 75,
   "id": "cf3d1e8b-3d5e-4be8-9861-7825c1b6265a",
   "metadata": {},
   "outputs": [],
   "source": [
    "from sklearn.linear_model import LinearRegression\n",
    "from sklearn.model_selection import train_test_split\n",
    "from sklearn.metrics import mean_squared_error, r2_score, mean_absolute_error"
   ]
  },
  {
   "cell_type": "code",
   "execution_count": 45,
   "id": "ec01226a-d592-4caf-8467-416b85b96f1d",
   "metadata": {},
   "outputs": [],
   "source": [
    "X = df1[['Year']] # Independent variable \n",
    "y = df1['No_of_iPhone_Sold'] # Dependent variable "
   ]
  },
  {
   "cell_type": "code",
   "execution_count": 46,
   "id": "f266db5f-4dfb-44de-922d-4f6cc280b9bb",
   "metadata": {},
   "outputs": [
    {
     "name": "stdout",
     "output_type": "stream",
     "text": [
      "Shape of X (features): (9, 1)\n",
      "Shape of y (target): (9,)\n"
     ]
    }
   ],
   "source": [
    "print(\"Shape of X (features):\", X.shape)\n",
    "print(\"Shape of y (target):\", y.shape)"
   ]
  },
  {
   "cell_type": "markdown",
   "id": "baeedf95-8ca4-41e2-a4d8-b92a4906ae39",
   "metadata": {},
   "source": [
    "#### Split the data into training (80%) and testing (20%) sets"
   ]
  },
  {
   "cell_type": "markdown",
   "id": "8de8161c-bb6c-4f59-bc86-0cc8a6445e56",
   "metadata": {},
   "source": [
    "##### One can now use X_train and y_train to train your linear regression model and then use X_test and y_test to evaluate how well it performs."
   ]
  },
  {
   "cell_type": "code",
   "execution_count": 47,
   "id": "4208090b-167e-4349-b25e-70a18ee298e8",
   "metadata": {},
   "outputs": [],
   "source": [
    "X_train, X_test, y_train, y_test = train_test_split(X, y, test_size=0.2, random_state=42)"
   ]
  },
  {
   "cell_type": "code",
   "execution_count": 48,
   "id": "bcb4d7f8-154e-4e6b-a4d8-5ed7b2a51bfb",
   "metadata": {},
   "outputs": [
    {
     "name": "stdout",
     "output_type": "stream",
     "text": [
      "Shape of X_train: (7, 1)\n",
      "Shape of X_test: (2, 1)\n"
     ]
    }
   ],
   "source": [
    "print(\"Shape of X_train:\", X_train.shape)\n",
    "print(\"Shape of X_test:\", X_test.shape)"
   ]
  },
  {
   "cell_type": "code",
   "execution_count": 49,
   "id": "82275f45-c493-46f8-8ca9-3dd75b7c4ef1",
   "metadata": {},
   "outputs": [
    {
     "name": "stdout",
     "output_type": "stream",
     "text": [
      "Shape of y_train: (7,)\n",
      "Shape of y_test: (2,)\n"
     ]
    }
   ],
   "source": [
    "print(\"Shape of y_train:\", y_train.shape)\n",
    "print(\"Shape of y_test:\", y_test.shape)"
   ]
  },
  {
   "cell_type": "markdown",
   "id": "5b6b5961-aaba-4ddd-a49f-8586d6e35b53",
   "metadata": {},
   "source": [
    "#### Display the training and testing data to verify the split"
   ]
  },
  {
   "cell_type": "code",
   "execution_count": 50,
   "id": "fa1b63f7-e4ad-42dc-ae7b-775df976a7b9",
   "metadata": {},
   "outputs": [
    {
     "name": "stdout",
     "output_type": "stream",
     "text": [
      "\n",
      "Training features (X_train):\n",
      "   Year\n",
      "6  2017\n",
      "1  2022\n",
      "9  2014\n",
      "3  2020\n",
      "5  2018\n",
      "4  2019\n",
      "7  2016\n"
     ]
    }
   ],
   "source": [
    "print(\"\\nTraining features (X_train):\")\n",
    "print(X_train)"
   ]
  },
  {
   "cell_type": "code",
   "execution_count": 51,
   "id": "8ba33578-a064-4532-a84d-d738a143df8b",
   "metadata": {},
   "outputs": [
    {
     "name": "stdout",
     "output_type": "stream",
     "text": [
      "\n",
      "Testing features (X_test):\n",
      "   Year\n",
      "8  2015\n",
      "2  2021\n"
     ]
    }
   ],
   "source": [
    "print(\"\\nTesting features (X_test):\")\n",
    "print(X_test)"
   ]
  },
  {
   "cell_type": "code",
   "execution_count": 52,
   "id": "318416ff-74d7-4c2f-a773-35a494053620",
   "metadata": {},
   "outputs": [
    {
     "name": "stdout",
     "output_type": "stream",
     "text": [
      "\n",
      "Training features (y_train):\n",
      "6    215800000\n",
      "1    226400000\n",
      "9    192700000\n",
      "3    206100000\n",
      "5    208800000\n",
      "4    191000000\n",
      "7    215400000\n",
      "Name: No_of_iPhone_Sold, dtype: int64\n"
     ]
    }
   ],
   "source": [
    "print(\"\\nTraining features (y_train):\")\n",
    "print(y_train)"
   ]
  },
  {
   "cell_type": "code",
   "execution_count": 53,
   "id": "f230c2c2-0ddb-4a2a-863d-ab6f80b26528",
   "metadata": {},
   "outputs": [
    {
     "name": "stdout",
     "output_type": "stream",
     "text": [
      "\n",
      "Testing features (y_test):\n",
      "8    231500000\n",
      "2    235700000\n",
      "Name: No_of_iPhone_Sold, dtype: int64\n"
     ]
    }
   ],
   "source": [
    "print(\"\\nTesting features (y_test):\")\n",
    "print(y_test)"
   ]
  },
  {
   "cell_type": "code",
   "execution_count": null,
   "id": "5b922a27-471e-49ce-82dd-e162548aa273",
   "metadata": {},
   "outputs": [],
   "source": []
  },
  {
   "cell_type": "markdown",
   "id": "954cac0f-941d-45a8-a3cd-5fb54683f448",
   "metadata": {},
   "source": [
    "##### The primary aim is to understand and predict the growth of iPhone adoption. We're doing this by exploring the relationship between Year and the No of iPhone Users."
   ]
  },
  {
   "cell_type": "markdown",
   "id": "a46048a8-fb74-4394-b3f6-8a798fbaf921",
   "metadata": {},
   "source": [
    "##### Mean Absolute Error(MAE) is commonly used to evaluate the accuracy of regression models in machine learning. It's a straightforward metric that helps you understand how far off, on average, a model's predictions are from the actual values. \n",
    "\n",
    "##### Mean Squared Error(MSE) is the average squared difference between the value observed in a statistical study and the values predicted from a model.\n",
    "\n",
    "##### Co-efficient of Determination (r^2) is a statistical measure indicating the proportion of variance in a dependent variable explained by a regression model's independent variable(s), with values ranging from 0 to 1 and higher values signifying a better model fit.\n",
    "##### The coefficient of determination (r^2) tells you how well your model explains the variations in a set of data. "
   ]
  },
  {
   "cell_type": "markdown",
   "id": "c516a34d-4a1a-4835-bff8-9ca7036b6009",
   "metadata": {},
   "source": []
  },
  {
   "cell_type": "code",
   "execution_count": 73,
   "id": "8a02e818-7b2a-423f-a7f9-3c98e847fec5",
   "metadata": {},
   "outputs": [],
   "source": [
    "model = LinearRegression() # At this stage, the model has been created but has not learned anything from your data. It is an empty container ready to be trained.\n",
    "model.fit(X, y) # The .fit() method takes your training data and uses it to find the best possible straight-line relationship between the independent variable X and the dependent variable y\n",
    "# Predictions\n",
    "y_pred = model.predict(X) #This line uses the model I just trained to generate predictions.\n",
    "#This step is crucial for evaluating how well the model performed on the data it was trained on. It allows you to compare the y_pred values with the original y values."
   ]
  },
  {
   "cell_type": "code",
   "execution_count": 80,
   "id": "24a578aa-4393-4289-9b0b-72b14df1fb58",
   "metadata": {},
   "outputs": [
    {
     "name": "stdout",
     "output_type": "stream",
     "text": [
      "Mean Absolute Error: 12113580.24691354\n"
     ]
    }
   ],
   "source": [
    "mae = mean_absolute_error(y, y_pred) #finding the mean absolute error\n",
    "print(\"Mean Absolute Error:\", mae)"
   ]
  },
  {
   "cell_type": "code",
   "execution_count": 81,
   "id": "eb114f03-d5d4-41c8-8642-371cd1e85322",
   "metadata": {},
   "outputs": [
    {
     "name": "stdout",
     "output_type": "stream",
     "text": [
      "Mean Squared Error: 203024691358024.4\n"
     ]
    }
   ],
   "source": [
    "mse = mean_squared_error(y, y_pred) # finding the mean square error\n",
    "print(\"Mean Squared Error:\", mse)"
   ]
  },
  {
   "cell_type": "code",
   "execution_count": 79,
   "id": "fb846025-e6fc-4133-9632-dc51b6c3f903",
   "metadata": {},
   "outputs": [
    {
     "name": "stdout",
     "output_type": "stream",
     "text": [
      "R² Score: 0.08979709310692296\n"
     ]
    }
   ],
   "source": [
    "r2 = r2_score(y, y_pred) # This calculates the R-squared score which is the co-efficient of determination.\n",
    "print(\"R² Score:\", r2)"
   ]
  },
  {
   "cell_type": "code",
   "execution_count": null,
   "id": "47634074-7df9-4d04-9677-8f646efa97b2",
   "metadata": {},
   "outputs": [],
   "source": []
  },
  {
   "cell_type": "code",
   "execution_count": 68,
   "id": "05bcdb1b-6e2b-43a6-b453-a547ff26efd4",
   "metadata": {},
   "outputs": [
    {
     "name": "stdout",
     "output_type": "stream",
     "text": [
      "Intercept: -3284155555.555555\n",
      "Slope: 1733333.333333333\n"
     ]
    }
   ],
   "source": [
    "print(\"Intercept:\", model.intercept_)\n",
    "print(\"Slope:\", model.coef_[0])"
   ]
  },
  {
   "cell_type": "code",
   "execution_count": 71,
   "id": "f544b845-1a49-4bae-9885-70c9e12a19d5",
   "metadata": {},
   "outputs": [
    {
     "data": {
      "image/png": "[encoded data removed]",
      "text/plain": [
       "<Figure size 800x600 with 1 Axes>"
      ]
     },
     "metadata": {},
     "output_type": "display_data"
    }
   ],
   "source": [
    "# Plotting actual data vs predicted line\n",
    "plt.figure(figsize=(8,6))\n",
    "plt.scatter(X, y, color=\"blue\", label=\"Actual Data\")\n",
    "plt.plot(X, y_pred, color=\"red\", linewidth=3, label=\"Regression Line\")\n",
    "plt.xlabel(\"Year\")\n",
    "plt.ylabel(\"No. of iPhone Users\")\n",
    "plt.title(\"Linear Regression: Year vs No. of iPhone Users\")\n",
    "#plt.legend()\n",
    "plt.show()"
   ]
  },
  {
   "cell_type": "code",
   "execution_count": null,
   "id": "2030e21d-f637-45ca-8dad-47a04a4c7d5c",
   "metadata": {},
   "outputs": [],
   "source": []
  }
 ],
 "metadata": {
  "kernelspec": {
   "display_name": "Python 3 (ipykernel)",
   "language": "python",
   "name": "python3"
  },
  "language_info": {
   "codemirror_mode": {
    "name": "ipython",
    "version": 3
   },
   "file_extension": ".py",
   "mimetype": "text/x-python",
   "name": "python",
   "nbconvert_exporter": "python",
   "pygments_lexer": "ipython3",
   "version": "3.13.7"
  }
 },
 "nbformat": 4,
 "nbformat_minor": 5
}
